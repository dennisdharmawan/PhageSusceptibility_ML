{
 "cells": [
  {
   "cell_type": "markdown",
   "metadata": {},
   "source": [
    "# Predictive models for phage susceptibility - individual phages\n",
    "\n",
    "Input features: GWAS-identified genes and COGs above the suggestive threshold from a particular phage\n",
    "\n",
    "Target variables: Susceptibility of Pseudomonas aeruginosa isolates to the particular phage (0: not infected, 1: infected)"
   ]
  },
  {
   "cell_type": "markdown",
   "metadata": {},
   "source": [
    "## Import packages"
   ]
  },
  {
   "cell_type": "code",
   "execution_count": 2,
   "metadata": {},
   "outputs": [],
   "source": [
    "import pandas as pd\n",
    "import glob\n",
    "from sklearn.model_selection import cross_val_score\n",
    "from sklearn.metrics import accuracy_score, balanced_accuracy_score, precision_score, recall_score, f1_score, roc_curve, auc, roc_auc_score, RocCurveDisplay, confusion_matrix, ConfusionMatrixDisplay, classification_report, precision_recall_fscore_support\n",
    "from sklearn.model_selection import train_test_split\n",
    "from sklearn.model_selection import GridSearchCV"
   ]
  },
  {
   "cell_type": "code",
   "execution_count": 3,
   "metadata": {},
   "outputs": [],
   "source": [
    "import seaborn as sns\n",
    "import matplotlib.pyplot as plt"
   ]
  },
  {
   "cell_type": "markdown",
   "metadata": {},
   "source": [
    "## Read and format input data"
   ]
  },
  {
   "cell_type": "code",
   "execution_count": 3,
   "metadata": {},
   "outputs": [],
   "source": [
    "presence_absence_raw_df = pd.read_csv(\"../Data/gene_presence_absence.Rtab\", sep=\"\\t\")"
   ]
  },
  {
   "cell_type": "code",
   "execution_count": 4,
   "metadata": {},
   "outputs": [
    {
     "data": {
      "text/html": [
       "<div>\n",
       "<style scoped>\n",
       "    .dataframe tbody tr th:only-of-type {\n",
       "        vertical-align: middle;\n",
       "    }\n",
       "\n",
       "    .dataframe tbody tr th {\n",
       "        vertical-align: top;\n",
       "    }\n",
       "\n",
       "    .dataframe thead th {\n",
       "        text-align: right;\n",
       "    }\n",
       "</style>\n",
       "<table border=\"1\" class=\"dataframe\">\n",
       "  <thead>\n",
       "    <tr style=\"text-align: right;\">\n",
       "      <th></th>\n",
       "      <th>Gene</th>\n",
       "      <th>PaLo600</th>\n",
       "      <th>PaLo601</th>\n",
       "      <th>PaLo602</th>\n",
       "      <th>PaLo603</th>\n",
       "      <th>PaLo604</th>\n",
       "      <th>PaLo605</th>\n",
       "      <th>PaLo606</th>\n",
       "      <th>PaLo607</th>\n",
       "      <th>PaLo608</th>\n",
       "      <th>...</th>\n",
       "      <th>PSA-TIM-IMI-101125</th>\n",
       "      <th>PSA-TIM-IMI-101126</th>\n",
       "      <th>PSA-TIM-IMI-101127</th>\n",
       "      <th>PSA-TIM-IMI-101128</th>\n",
       "      <th>PSA-TIM-IMI-101129</th>\n",
       "      <th>PSA-TIM-IMI-101130</th>\n",
       "      <th>PSA-TIM-IMI-101131</th>\n",
       "      <th>PSA-TIM-IMI-101132</th>\n",
       "      <th>PSA-TIM-IMI-101133</th>\n",
       "      <th>PSA-TIM-IMI-101134</th>\n",
       "    </tr>\n",
       "  </thead>\n",
       "  <tbody>\n",
       "    <tr>\n",
       "      <th>0</th>\n",
       "      <td>aam_1~~~gatA_2~~~amiD_3~~~aam_3~~~QRSL1_2</td>\n",
       "      <td>1</td>\n",
       "      <td>1</td>\n",
       "      <td>1</td>\n",
       "      <td>1</td>\n",
       "      <td>1</td>\n",
       "      <td>1</td>\n",
       "      <td>1</td>\n",
       "      <td>1</td>\n",
       "      <td>1</td>\n",
       "      <td>...</td>\n",
       "      <td>1</td>\n",
       "      <td>1</td>\n",
       "      <td>1</td>\n",
       "      <td>1</td>\n",
       "      <td>1</td>\n",
       "      <td>1</td>\n",
       "      <td>1</td>\n",
       "      <td>1</td>\n",
       "      <td>1</td>\n",
       "      <td>1</td>\n",
       "    </tr>\n",
       "    <tr>\n",
       "      <th>1</th>\n",
       "      <td>group_8989</td>\n",
       "      <td>1</td>\n",
       "      <td>1</td>\n",
       "      <td>1</td>\n",
       "      <td>1</td>\n",
       "      <td>1</td>\n",
       "      <td>1</td>\n",
       "      <td>1</td>\n",
       "      <td>1</td>\n",
       "      <td>1</td>\n",
       "      <td>...</td>\n",
       "      <td>1</td>\n",
       "      <td>1</td>\n",
       "      <td>1</td>\n",
       "      <td>1</td>\n",
       "      <td>1</td>\n",
       "      <td>1</td>\n",
       "      <td>1</td>\n",
       "      <td>1</td>\n",
       "      <td>1</td>\n",
       "      <td>1</td>\n",
       "    </tr>\n",
       "    <tr>\n",
       "      <th>2</th>\n",
       "      <td>nicA</td>\n",
       "      <td>1</td>\n",
       "      <td>1</td>\n",
       "      <td>1</td>\n",
       "      <td>1</td>\n",
       "      <td>1</td>\n",
       "      <td>1</td>\n",
       "      <td>1</td>\n",
       "      <td>1</td>\n",
       "      <td>1</td>\n",
       "      <td>...</td>\n",
       "      <td>1</td>\n",
       "      <td>1</td>\n",
       "      <td>1</td>\n",
       "      <td>1</td>\n",
       "      <td>1</td>\n",
       "      <td>1</td>\n",
       "      <td>1</td>\n",
       "      <td>1</td>\n",
       "      <td>1</td>\n",
       "      <td>1</td>\n",
       "    </tr>\n",
       "    <tr>\n",
       "      <th>3</th>\n",
       "      <td>group_8986</td>\n",
       "      <td>1</td>\n",
       "      <td>1</td>\n",
       "      <td>1</td>\n",
       "      <td>1</td>\n",
       "      <td>1</td>\n",
       "      <td>1</td>\n",
       "      <td>1</td>\n",
       "      <td>1</td>\n",
       "      <td>1</td>\n",
       "      <td>...</td>\n",
       "      <td>1</td>\n",
       "      <td>1</td>\n",
       "      <td>1</td>\n",
       "      <td>1</td>\n",
       "      <td>1</td>\n",
       "      <td>1</td>\n",
       "      <td>1</td>\n",
       "      <td>1</td>\n",
       "      <td>1</td>\n",
       "      <td>1</td>\n",
       "    </tr>\n",
       "    <tr>\n",
       "      <th>4</th>\n",
       "      <td>group_8983</td>\n",
       "      <td>1</td>\n",
       "      <td>1</td>\n",
       "      <td>1</td>\n",
       "      <td>1</td>\n",
       "      <td>1</td>\n",
       "      <td>1</td>\n",
       "      <td>1</td>\n",
       "      <td>1</td>\n",
       "      <td>1</td>\n",
       "      <td>...</td>\n",
       "      <td>1</td>\n",
       "      <td>1</td>\n",
       "      <td>1</td>\n",
       "      <td>1</td>\n",
       "      <td>1</td>\n",
       "      <td>1</td>\n",
       "      <td>1</td>\n",
       "      <td>1</td>\n",
       "      <td>1</td>\n",
       "      <td>1</td>\n",
       "    </tr>\n",
       "    <tr>\n",
       "      <th>...</th>\n",
       "      <td>...</td>\n",
       "      <td>...</td>\n",
       "      <td>...</td>\n",
       "      <td>...</td>\n",
       "      <td>...</td>\n",
       "      <td>...</td>\n",
       "      <td>...</td>\n",
       "      <td>...</td>\n",
       "      <td>...</td>\n",
       "      <td>...</td>\n",
       "      <td>...</td>\n",
       "      <td>...</td>\n",
       "      <td>...</td>\n",
       "      <td>...</td>\n",
       "      <td>...</td>\n",
       "      <td>...</td>\n",
       "      <td>...</td>\n",
       "      <td>...</td>\n",
       "      <td>...</td>\n",
       "      <td>...</td>\n",
       "      <td>...</td>\n",
       "    </tr>\n",
       "    <tr>\n",
       "      <th>20670</th>\n",
       "      <td>group_155</td>\n",
       "      <td>0</td>\n",
       "      <td>0</td>\n",
       "      <td>0</td>\n",
       "      <td>0</td>\n",
       "      <td>0</td>\n",
       "      <td>0</td>\n",
       "      <td>0</td>\n",
       "      <td>0</td>\n",
       "      <td>0</td>\n",
       "      <td>...</td>\n",
       "      <td>0</td>\n",
       "      <td>0</td>\n",
       "      <td>0</td>\n",
       "      <td>0</td>\n",
       "      <td>0</td>\n",
       "      <td>0</td>\n",
       "      <td>0</td>\n",
       "      <td>0</td>\n",
       "      <td>0</td>\n",
       "      <td>0</td>\n",
       "    </tr>\n",
       "    <tr>\n",
       "      <th>20671</th>\n",
       "      <td>group_89</td>\n",
       "      <td>0</td>\n",
       "      <td>0</td>\n",
       "      <td>0</td>\n",
       "      <td>0</td>\n",
       "      <td>0</td>\n",
       "      <td>0</td>\n",
       "      <td>0</td>\n",
       "      <td>0</td>\n",
       "      <td>0</td>\n",
       "      <td>...</td>\n",
       "      <td>0</td>\n",
       "      <td>0</td>\n",
       "      <td>0</td>\n",
       "      <td>0</td>\n",
       "      <td>0</td>\n",
       "      <td>0</td>\n",
       "      <td>0</td>\n",
       "      <td>0</td>\n",
       "      <td>0</td>\n",
       "      <td>0</td>\n",
       "    </tr>\n",
       "    <tr>\n",
       "      <th>20672</th>\n",
       "      <td>group_5</td>\n",
       "      <td>0</td>\n",
       "      <td>0</td>\n",
       "      <td>0</td>\n",
       "      <td>0</td>\n",
       "      <td>0</td>\n",
       "      <td>0</td>\n",
       "      <td>0</td>\n",
       "      <td>0</td>\n",
       "      <td>0</td>\n",
       "      <td>...</td>\n",
       "      <td>0</td>\n",
       "      <td>0</td>\n",
       "      <td>0</td>\n",
       "      <td>0</td>\n",
       "      <td>0</td>\n",
       "      <td>0</td>\n",
       "      <td>0</td>\n",
       "      <td>0</td>\n",
       "      <td>0</td>\n",
       "      <td>0</td>\n",
       "    </tr>\n",
       "    <tr>\n",
       "      <th>20673</th>\n",
       "      <td>fitB</td>\n",
       "      <td>0</td>\n",
       "      <td>0</td>\n",
       "      <td>0</td>\n",
       "      <td>0</td>\n",
       "      <td>0</td>\n",
       "      <td>0</td>\n",
       "      <td>0</td>\n",
       "      <td>0</td>\n",
       "      <td>0</td>\n",
       "      <td>...</td>\n",
       "      <td>0</td>\n",
       "      <td>0</td>\n",
       "      <td>0</td>\n",
       "      <td>0</td>\n",
       "      <td>0</td>\n",
       "      <td>0</td>\n",
       "      <td>0</td>\n",
       "      <td>0</td>\n",
       "      <td>0</td>\n",
       "      <td>0</td>\n",
       "    </tr>\n",
       "    <tr>\n",
       "      <th>20674</th>\n",
       "      <td>pgrR_5</td>\n",
       "      <td>0</td>\n",
       "      <td>0</td>\n",
       "      <td>0</td>\n",
       "      <td>0</td>\n",
       "      <td>0</td>\n",
       "      <td>0</td>\n",
       "      <td>0</td>\n",
       "      <td>0</td>\n",
       "      <td>0</td>\n",
       "      <td>...</td>\n",
       "      <td>0</td>\n",
       "      <td>0</td>\n",
       "      <td>0</td>\n",
       "      <td>0</td>\n",
       "      <td>0</td>\n",
       "      <td>0</td>\n",
       "      <td>0</td>\n",
       "      <td>0</td>\n",
       "      <td>0</td>\n",
       "      <td>0</td>\n",
       "    </tr>\n",
       "  </tbody>\n",
       "</table>\n",
       "<p>20675 rows × 561 columns</p>\n",
       "</div>"
      ],
      "text/plain": [
       "                                            Gene  PaLo600  PaLo601  PaLo602  \\\n",
       "0      aam_1~~~gatA_2~~~amiD_3~~~aam_3~~~QRSL1_2        1        1        1   \n",
       "1                                     group_8989        1        1        1   \n",
       "2                                           nicA        1        1        1   \n",
       "3                                     group_8986        1        1        1   \n",
       "4                                     group_8983        1        1        1   \n",
       "...                                          ...      ...      ...      ...   \n",
       "20670                                  group_155        0        0        0   \n",
       "20671                                   group_89        0        0        0   \n",
       "20672                                    group_5        0        0        0   \n",
       "20673                                       fitB        0        0        0   \n",
       "20674                                     pgrR_5        0        0        0   \n",
       "\n",
       "       PaLo603  PaLo604  PaLo605  PaLo606  PaLo607  PaLo608  ...  \\\n",
       "0            1        1        1        1        1        1  ...   \n",
       "1            1        1        1        1        1        1  ...   \n",
       "2            1        1        1        1        1        1  ...   \n",
       "3            1        1        1        1        1        1  ...   \n",
       "4            1        1        1        1        1        1  ...   \n",
       "...        ...      ...      ...      ...      ...      ...  ...   \n",
       "20670        0        0        0        0        0        0  ...   \n",
       "20671        0        0        0        0        0        0  ...   \n",
       "20672        0        0        0        0        0        0  ...   \n",
       "20673        0        0        0        0        0        0  ...   \n",
       "20674        0        0        0        0        0        0  ...   \n",
       "\n",
       "       PSA-TIM-IMI-101125  PSA-TIM-IMI-101126  PSA-TIM-IMI-101127  \\\n",
       "0                       1                   1                   1   \n",
       "1                       1                   1                   1   \n",
       "2                       1                   1                   1   \n",
       "3                       1                   1                   1   \n",
       "4                       1                   1                   1   \n",
       "...                   ...                 ...                 ...   \n",
       "20670                   0                   0                   0   \n",
       "20671                   0                   0                   0   \n",
       "20672                   0                   0                   0   \n",
       "20673                   0                   0                   0   \n",
       "20674                   0                   0                   0   \n",
       "\n",
       "       PSA-TIM-IMI-101128  PSA-TIM-IMI-101129  PSA-TIM-IMI-101130  \\\n",
       "0                       1                   1                   1   \n",
       "1                       1                   1                   1   \n",
       "2                       1                   1                   1   \n",
       "3                       1                   1                   1   \n",
       "4                       1                   1                   1   \n",
       "...                   ...                 ...                 ...   \n",
       "20670                   0                   0                   0   \n",
       "20671                   0                   0                   0   \n",
       "20672                   0                   0                   0   \n",
       "20673                   0                   0                   0   \n",
       "20674                   0                   0                   0   \n",
       "\n",
       "       PSA-TIM-IMI-101131  PSA-TIM-IMI-101132  PSA-TIM-IMI-101133  \\\n",
       "0                       1                   1                   1   \n",
       "1                       1                   1                   1   \n",
       "2                       1                   1                   1   \n",
       "3                       1                   1                   1   \n",
       "4                       1                   1                   1   \n",
       "...                   ...                 ...                 ...   \n",
       "20670                   0                   0                   0   \n",
       "20671                   0                   0                   0   \n",
       "20672                   0                   0                   0   \n",
       "20673                   0                   0                   0   \n",
       "20674                   0                   0                   0   \n",
       "\n",
       "       PSA-TIM-IMI-101134  \n",
       "0                       1  \n",
       "1                       1  \n",
       "2                       1  \n",
       "3                       1  \n",
       "4                       1  \n",
       "...                   ...  \n",
       "20670                   0  \n",
       "20671                   0  \n",
       "20672                   0  \n",
       "20673                   0  \n",
       "20674                   0  \n",
       "\n",
       "[20675 rows x 561 columns]"
      ]
     },
     "execution_count": 4,
     "metadata": {},
     "output_type": "execute_result"
    }
   ],
   "source": [
    "presence_absence_raw_df"
   ]
  },
  {
   "cell_type": "markdown",
   "metadata": {},
   "source": [
    "### Make list of suggestive genes/COGs for phages LKD16, LMA2, LUZ7, LUZ19"
   ]
  },
  {
   "cell_type": "code",
   "execution_count": null,
   "metadata": {},
   "outputs": [
    {
     "name": "stdout",
     "output_type": "stream",
     "text": [
      "['group_1194', 'group_14699', 'group_2576', 'group_5333', 'group_5628', 'group_6211', 'group_6392', 'group_7282', '']\n"
     ]
    }
   ],
   "source": [
    "# list of suggestive genes/COGs for phage LKD16\n",
    "text_file = open(\"../Data/suggestive_COGs_LKD16_unique.txt\", \"r\")\n",
    "data = text_file.read()\n",
    "suggestive_COGs_LKD16 = data.split(\"\\n\")\n",
    "print(suggestive_COGs_LKD16)\n",
    "text_file.close()"
   ]
  },
  {
   "cell_type": "code",
   "execution_count": 40,
   "metadata": {},
   "outputs": [
    {
     "name": "stdout",
     "output_type": "stream",
     "text": [
      "['ackA_1~~~ackA_2', 'deoA', 'dnaB_1~~~dnaB_2~~~dnaB_3', 'group_1132', 'group_1489', 'group_1527', 'group_1546', 'group_1570', 'group_1970', 'group_2190', 'group_2374', 'group_2471', 'group_2576', 'group_2987', 'group_3007', 'group_3314', 'group_3334', 'group_3856', 'group_3988', 'group_4056', 'group_4149', 'group_5333', 'group_5618', 'group_5660', 'group_6006', 'group_6125', 'group_6392', 'group_6556', 'group_6642', 'group_7282', 'group_7348', 'group_7542', 'group_7678', 'group_801', 'group_8144', 'group_8379', 'group_8420', 'group_8424', 'group_8687', 'ldhA_1~~~ldhA_2', 'lemA_3', 'prs', 'topB_3~~~topB_1~~~topB~~~topB_2', 'ubiB_2', 'zntR_2', '']\n"
     ]
    }
   ],
   "source": [
    "# list of suggestive genes/COGs for phage LMA2\n",
    "text_file = open(\"../Data/suggestive_COGs_LMA2_unique.txt\", \"r\")\n",
    "data = text_file.read()\n",
    "suggestive_COGs_LMA2 = data.split(\"\\n\")\n",
    "print(suggestive_COGs_LMA2)\n",
    "text_file.close()"
   ]
  },
  {
   "cell_type": "code",
   "execution_count": null,
   "metadata": {},
   "outputs": [
    {
     "name": "stdout",
     "output_type": "stream",
     "text": [
      "['asnB_2~~~asnB_1~~~asnB_3', 'asnB_2~~~asnB_3~~~asnO_3~~~asnB_1', 'clsA', 'gnu~~~rmd_1~~~rfbB_2', 'gnu~~~rmd_2~~~oleD_1', 'group_10141', 'group_1188', 'group_14756', 'group_14989', 'group_14990', 'group_1910', 'group_1934', 'group_2269', 'group_2523', 'group_2554', 'group_3716', 'group_3879', 'group_3946', 'group_417', 'group_4252', 'group_4458', 'group_4613', 'group_5209', 'group_5273', 'group_5595', 'group_5815', 'group_5816', 'group_6324', 'group_7529', 'group_792', 'group_8169', 'group_8279', 'group_8784', 'group_8917', 'intA_1~~~intA~~~intA_2', 'mpl~~~ubiX', 'mraY_1~~~wecA', 'mshA_1~~~mshA_6~~~epsF_5~~~mshA_5~~~epsF_4', 'murJ_1', 'pglA_2~~~pglA~~~pglA_1', 'phzA1', 'rep_2', 'tal_1~~~hldD_1~~~hldD_2', 'wbgU_1', 'wecC~~~wbpA', 'wzzE', '']\n"
     ]
    }
   ],
   "source": [
    "# list of suggestive genes/COGs for phage LUZ7\n",
    "text_file = open(\"../Data/suggestive_COGs_LUZ7_unique.txt\", \"r\")\n",
    "data = text_file.read()\n",
    "suggestive_COGs_LUZ7 = data.split(\"\\n\")\n",
    "print(suggestive_COGs_LUZ7)\n",
    "text_file.close()"
   ]
  },
  {
   "cell_type": "code",
   "execution_count": null,
   "metadata": {},
   "outputs": [
    {
     "name": "stdout",
     "output_type": "stream",
     "text": [
      "['btuD_1~~~malK', 'group_1155', 'group_1191', 'group_14145', 'group_41', 'group_5010', 'group_7177', 'group_7284', 'hcpA~~~hcpA_1', 'pilA', 'rep_6~~~rep_1', 'treA~~~treA_2', '']\n"
     ]
    }
   ],
   "source": [
    "# list of suggestive genes/COGs for phage LUZ19\n",
    "text_file = open(\"../Data/suggestive_COGs_LUZ19_unique.txt\", \"r\")\n",
    "data = text_file.read()\n",
    "suggestive_COGs_LUZ19 = data.split(\"\\n\")\n",
    "print(suggestive_COGs_LUZ19)\n",
    "text_file.close()"
   ]
  },
  {
   "cell_type": "code",
   "execution_count": 6,
   "metadata": {},
   "outputs": [
    {
     "name": "stdout",
     "output_type": "stream",
     "text": [
      "['PaLo600', 'PaLo601', 'PaLo602', 'PaLo603', 'PaLo604', 'PaLo605', 'PaLo606', 'PaLo607', 'PaLo608', 'PaLo609', 'PaLo610', 'PaLo611', 'PaLo612', 'PaLo613', 'PaLo614', 'PaLo615', 'PaLo616', 'PaLo617', 'PaLo618', 'PaLo619', 'PaLo620', 'PaLo621', 'PaLo622', 'PaLo623', 'PaLo624', 'PaLo625', 'PaLo626', 'PaLo627', 'PaLo628', 'PaLo629', 'PaLo630', 'PaLo631', 'PaLo632', 'PaLo633', 'PaLo634', 'PaLo635', 'PaLo636', 'PaLo637', 'PaLo638', 'PaLo639', 'PaLo640', 'PaLo641', 'PaLo642', 'PaLo643', 'PaLo644', 'PaLo645', 'PaLo646', 'PaLo647', 'PaLo648', 'PaLo649', 'PaLo650', 'PaLo651', 'PaLo652', 'PaLo653', 'PaLo654', 'PaLo655', 'PaLo656', 'PaLo657', 'PSA-BAB-IMI-102606', 'PSA-BAB-IMI-102604', 'PSA-BAB-IMI-102603', 'PSA-BAB-IMI-102605', 'PSA-BAB-IMI-102280', 'PSA-BAB-IMI-102290', 'PSA-BAB-IMI-102191', 'PSA-BAB-IMI-102190', 'PSA-BAB-IMI-102447', 'PSA-BAB-IMI-102276', 'PSA-BAB-IMI-102451', 'PSA-BAB-IMI-102450', 'PSA-BAB-IMI-102288', 'PSA-BAB-IMI-102194', 'PSA-BAB-IMI-102192', 'PSA-BAB-IMI-102282', 'PSA-BAB-IMI-102281', 'PSA-BAB-IMI-102298', 'PSA-BAB-IMI-102299', 'PSA-BAB-IMI-102300', 'PSA-BAB-IMI-102141', 'PSA-BAB-IMI-102452', 'PSA-BAB-IMI-102295', 'PSA-BAB-IMI-102301', 'PSA-BAB-IMI-102143', 'PSA-JSC-IMI-103637', 'PSA-BAB-IMI-102448', 'PSA-BAB-IMI-102140', 'PSA-BAB-IMI-102185', 'PSA-BAB-IMI-102186', 'PSA-JSC-IMI-103638', 'PSA-BAB-IMI-102187', 'PSA-BAB-IMI-102188', 'PSA-BAB-IMI-102178', 'PSA-BAB-IMI-102177', 'PSA-BAB-IMI-102306', 'PSA-BAB-IMI-102307', 'PSA-BAB-IMI-102367', 'PSA-BAB-IMI-102368', 'PSA-BAB-IMI-102601', 'PSA-BAB-IMI-102304', 'PSA-BAB-IMI-102305', 'PSA-BAB-IMI-102184', 'PSA-BAB-IMI-102183', 'PSA-BAB-IMI-102182', 'PSA-BAB-IMI-102309', 'PSA-BAB-IMI-102310', 'PSA-BAB-IMI-102463', 'PSA-BAB-IMI-102312', 'PSA-BAB-IMI-102313', 'PSA-BAB-IMI-102314', 'PSA-BAB-IMI-102318', 'PSA-BAB-IMI-102465', 'PSA-BAB-IMI-102196', 'PSA-BAB-IMI-102197', 'PSA-BAB-IMI-102371', 'PSA-BAB-IMI-102370', 'PSA-BAB-IMI-102374', 'PSA-BAB-IMI-102703', 'PSA-BAB-IMI-102704', 'PSA-BAB-IMI-102712', 'PSA-BAB-IMI-102713', 'PSA-BAB-IMI-102278', 'PSA-BAB-IMI-102277', 'PSA-BAB-IMI-102453', 'PSA-BAB-IMI-102705', 'PSA-BAB-IMI-102706', 'PSA-BAB-IMI-102707', 'PSA-BAB-IMI-102709', 'PSA-BAB-IMI-102708', 'PSA-BAB-IMI-102714', 'PSA-BAB-IMI-102715', 'PSA-BAB-IMI-102793', 'PSA-BAB-IMI-102927', 'PSA-BAB-IMI-102789', 'PSA-BAB-IMI-102790', 'PSA-BAB-IMI-102787', 'PSA-BAB-IMI-102788', 'PSA-BAB-IMI-102785', 'PSA-BAB-IMI-102786', 'PSA-BAB-IMI-102783', 'PSA-BAB-IMI-102784', 'PSA-BAB-IMI-102781', 'PSA-BAB-IMI-102782', 'PSA-BAB-IMI-102779', 'PSA-BAB-IMI-102780', 'PSA-BAB-IMI-102777', 'PSA-BAB-IMI-102778', 'PSA-BAB-IMI-102805', 'PSA-BAB-IMI-102291', 'PSA-BAB-IMI-102802', 'PSA-BAB-IMI-102803', 'PSA-BAB-IMI-102801', 'PSA-BAB-IMI-102449', 'PSA-BAB-IMI-102285', 'PSA-BAB-IMI-102284', 'PSA-BAB-IMI-102283', 'PSA-BAB-IMI-102189', 'PSA-BAB-IMI-102292', 'PSA-BAB-IMI-102293', 'PSA-BAB-IMI-102181', 'PSA-BAB-IMI-102180', 'PSA-BAB-IMI-102316', 'PSA-BAB-IMI-102303', 'PSA-BAB-IMI-102461', 'PSA-BAB-IMI-102462', 'PSA-BAB-IMI-102308', 'PSA-BAB-IMI-102317', 'PSA-BAB-IMI-102775', 'PSA-JSC-IMI-103636', 'PSA-BAB-IMI-102773', 'PSA-BAB-IMI-102774', 'PSA-BAB-IMI-102772', 'PSA-BAB-IMI-102769', 'PSA-BAB-IMI-102770', 'PSA-BAB-IMI-102804', 'PSA-BAB-IMI-102547', 'PSA-BAB-IMI-102548', 'PSA-BAB-IMI-102545', 'PSA-BAB-IMI-102546', 'PSA-BAB-IMI-102543', 'PSA-BAB-IMI-102544', 'PSA-BAB-IMI-102542', 'PSA-BAB-IMI-102539', 'PSA-BAB-IMI-102540', 'PSA-BAB-IMI-102538', 'PSA-BAB-IMI-102541', 'PSA-BAB-IMI-102555', 'PSA-BAB-IMI-102537', 'PSA-BAB-IMI-102551', 'PSA-BAB-IMI-102552', 'PSA-BAB-IMI-102535', 'PSA-BAB-IMI-102533', 'PSA-BAB-IMI-102534', 'PSA-BAB-IMI-102531', 'PSA-BAB-IMI-102532', 'PSA-BAB-IMI-102529', 'PSA-BAB-IMI-102530', 'PSA-BAB-IMI-102527', 'PSA-BAB-IMI-102528', 'PSA-BAB-IMI-102553', 'PSA-BAB-IMI-102800', 'PSA-BAB-IMI-102798', 'PSA-BAB-IMI-102795', 'PSA-BAB-IMI-102796', 'PSA-BAB-IMI-103015', 'PSA-BAB-IMI-103016', 'PSA-BAB-IMI-103013', 'PSA-BAB-IMI-103014', 'PSA-BAB-IMI-103011', 'PSA-BAB-IMI-103010', 'PSA-BAB-IMI-102933', 'PSA-BAB-IMI-103140', 'PSA-BAB-IMI-103139', 'PSA-BAB-IMI-102932', 'PSA-BAB-IMI-102930', 'PSA-BAB-IMI-103138', 'PSA-BAB-IMI-102880', 'PSA-BAB-IMI-102881', 'PSA-BAB-IMI-102878', 'PSA-BAB-IMI-102879', 'PSA-BAB-IMI-102876', 'PSA-BAB-IMI-102877', 'PSA-BAB-IMI-102874', 'PSA-BAB-IMI-102875', 'PSA-BAB-IMI-102872', 'PSA-BAB-IMI-102873', 'PSA-BAB-IMI-102870', 'PSA-BAB-IMI-102871', 'PSA-BAB-IMI-102869', 'PSA-BAB-IMI-102868', 'PSA-BAB-IMI-102867', 'PSA-BAB-IMI-102892', 'PSA-BAB-IMI-102866', 'PSA-BAB-IMI-102894', 'PSA-BAB-IMI-102863', 'PSA-BAB-IMI-102864', 'PSA-BAB-IMI-102861', 'PSA-BAB-IMI-102862', 'PSA-BAB-IMI-102549', 'PSA-BAB-IMI-102554', 'PSA-BAB-IMI-102525', 'PSA-BAB-IMI-102526', 'PSA-BAB-IMI-102523', 'PSA-BAB-IMI-102524', 'PSA-BAB-IMI-102521', 'PSA-BAB-IMI-102522', 'PSA-BAB-IMI-102519', 'PSA-BAB-IMI-102520', 'PSA-BAB-IMI-102517', 'PSA-BAB-IMI-102518', 'PSA-BAB-IMI-102515', 'PSA-BAB-IMI-102516', 'PSA-BAB-IMI-102513', 'PSA-BAB-IMI-102514', 'PSA-BAB-IMI-102497', 'PSA-BAB-IMI-102512', 'PSA-BAB-IMI-102495', 'PSA-BAB-IMI-102496', 'PSA-BAB-IMI-102493', 'PSA-BAB-IMI-102494', 'PSA-BAB-IMI-102492', 'PSA-BAB-IMI-102489', 'PSA-BAB-IMI-102490', 'PSA-BAB-IMI-102487', 'PSA-BAB-IMI-102488', 'PSA-BAB-IMI-102485', 'PSA-BAB-IMI-102486', 'PSA-BAB-IMI-102483', 'PSA-BAB-IMI-102484', 'PSA-BAB-IMI-102482', 'PSA-BAB-IMI-102319', 'PSA-TIM-IMI-101134', 'PSA-TIM-IMI-101133', 'PSA-TIM-IMI-101132', 'PSA-TIM-IMI-101131', 'PSA-TIM-IMI-101129', 'PSA-TIM-IMI-101128', 'PSA-TIM-IMI-101127', 'PSA-TIM-IMI-101126', 'PSA-TIM-IMI-101125', 'PSA-TIM-IMI-101108', 'PSA-TIM-IMI-101107', 'PSA-TIM-IMI-101106', 'PSA-TIM-IMI-101104', 'PSA-TIM-IMI-101103', 'PSA-TIM-IMI-101102', 'PSA-TIM-IMI-101101', 'PSA-TIM-IMI-101100', 'PSA-TIM-IMI-101099', 'PSA-TIM-IMI-101120', 'PSA-TIM-IMI-101118', 'PSA-TIM-IMI-101116', 'PSA-TIM-IMI-101114', 'PSA-TIM-IMI-101113', 'PSA-TIM-IMI-101124', 'PSA-TIM-IMI-101123', 'PSA-TIM-IMI-101122', 'PSA-TIM-IMI-101121', 'PSA-TIM-IMI-101098', 'PSA-TIM-IMI-101097', 'PSA-JSC-IMI-103640', 'PSA-BAB-IMI-102961', 'PSA-BAB-IMI-102958', 'PSA-BAB-IMI-102959', 'PSA-BAB-IMI-103147', 'PSA-BAB-IMI-102957', 'PSA-BAB-IMI-102954', 'PSA-BAB-IMI-102955', 'PSA-BAB-IMI-103146', 'PSA-BAB-IMI-102953', 'PSA-BAB-IMI-103144', 'PSA-BAB-IMI-102326', 'PSA-BAB-IMI-103145', 'PSA-JSC-IMI-101961', 'PSA-BAB-IMI-102199', 'PSA-BAB-IMI-102949', 'PSA-BAB-IMI-102481', 'PSA-JSC-IMI-103641', 'PSA-BAB-IMI-102320', 'PSA-BAB-IMI-102323', 'PSA-BAB-IMI-102322', 'PSA-BAB-IMI-102467', 'PSA-BAB-IMI-102468', 'PSA-BAB-IMI-102476', 'PSA-BAB-IMI-102478', 'PSA-BAB-IMI-102477', 'PSA-BAB-IMI-102479', 'PSA-BAB-IMI-102702', 'PSA-BAB-IMI-102511', 'PSA-BAB-IMI-102700', 'PSA-BAB-IMI-102701', 'PSA-BAB-IMI-102471', 'PSA-BAB-IMI-103143', 'PSA-BAB-IMI-102475', 'PSA-BAB-IMI-102699', 'PSA-BAB-IMI-102946', 'PSA-BAB-IMI-102943', 'PSA-BAB-IMI-102944', 'PSA-BAB-IMI-102900', 'PSA-BAB-IMI-102901', 'PSA-BAB-IMI-102903', 'PSA-BAB-IMI-102904', 'PSA-BAB-IMI-102905', 'PSA-BAB-IMI-102906', 'PSA-BAB-IMI-102907', 'PSA-BAB-IMI-102908', 'PSA-BAB-IMI-102911', 'PSA-BAB-IMI-103021', 'PSA-BAB-IMI-103019', 'PSA-BAB-IMI-102977', 'PSA-BAB-IMI-103152', 'PSA-BAB-IMI-102975', 'PSA-BAB-IMI-103529', 'PSA-BAB-IMI-102974', 'PSA-BAB-IMI-103149', 'PSA-BAB-IMI-102969', 'PSA-BAB-IMI-102970', 'PSA-BAB-IMI-102976', 'PSA-BAB-IMI-102965', 'PSA-BAB-IMI-103028', 'PSA-BAB-IMI-103029', 'PSA-BAB-IMI-103026', 'PSA-BAB-IMI-103027', 'PSA-BAB-IMI-103025', 'PSA-BAB-IMI-103023', 'PSA-BAB-IMI-103022', 'PSA-BAB-IMI-103040', 'PSA-BAB-IMI-103041', 'PSA-BAB-IMI-103038', 'PSA-BAB-IMI-103039', 'PSA-BAB-IMI-103036', 'PSA-BAB-IMI-103043', 'PSA-BAB-IMI-103528', 'PSA-BAB-IMI-103037', 'PSA-BAB-IMI-103034', 'PSA-BAB-IMI-103035', 'PSA-BAB-IMI-103032', 'PSA-BAB-IMI-103033', 'PSA-BAB-IMI-103030', 'PSA-BAB-IMI-103155', 'PSA-BAB-IMI-103306', 'PSA-BAB-IMI-103157', 'PSA-BAB-IMI-103320', 'PSA-BAB-IMI-103159', 'PSA-BAB-IMI-103160', 'PSA-BAB-IMI-103164', 'PSA-BAB-IMI-103165', 'PSA-BAB-IMI-103167', 'PSA-BAB-IMI-103168', 'PSA-BAB-IMI-103169', 'PSA-BAB-IMI-103307', 'PSA-BAB-IMI-103225', 'PSA-BAB-IMI-103226', 'PSA-BAB-IMI-103223', 'PSA-BAB-IMI-103224', 'PSA-BAB-IMI-103221', 'PSA-BAB-IMI-103222', 'PSA-BAB-IMI-103317', 'PSA-BAB-IMI-103318', 'PSA-BAB-IMI-103308', 'PSA-BAB-IMI-103316', 'PSA-BAB-IMI-103313', 'PSA-BAB-IMI-103309', 'PSA-BAB-IMI-103310', 'PSA-BAB-IMI-103315', 'PSA-BAB-IMI-103319', 'PSA-BAB-IMI-102981', 'PSA-BAB-IMI-103236', 'PSA-BAB-IMI-103237', 'PSA-BAB-IMI-103234', 'PSA-BAB-IMI-103238', 'PSA-BAB-IMI-103233', 'PSA-BAB-IMI-103230', 'PSA-BAB-IMI-103228', 'PSA-BAB-IMI-103229', 'PSA-BAB-IMI-103179', 'PSA-BAB-IMI-103173', 'PSA-BAB-IMI-103177', 'PSA-BAB-IMI-103178', 'PSA-BAB-IMI-103175', 'PSA-BAB-IMI-103176', 'PSA-BAB-IMI-103174', 'PSA-BAB-IMI-103321', 'PSA-BAB-IMI-103323', 'PSA-BAB-IMI-103324', 'PSA-BAB-IMI-103325', 'PSA-BAB-IMI-103186', 'PSA-BAB-IMI-103187', 'PSA-BAB-IMI-103184', 'PSA-BAB-IMI-103185', 'PSA-BAB-IMI-103182', 'PSA-BAB-IMI-103183', 'PSA-BAB-IMI-103180', 'PSA-BAB-IMI-103181', 'PSA-BAB-IMI-103327', 'PSA-BAB-IMI-103328', 'PSA-BAB-IMI-103329', 'PSA-BAB-IMI-103331', 'PSA-BAB-IMI-103332', 'PSA-BAB-IMI-103333', 'PSA-BAB-IMI-103334', 'PSA-BAB-IMI-103335', 'PSA-BAB-IMI-103336', 'PSA-BAB-IMI-103338', 'PSA-BAB-IMI-103339', 'PSA-BAB-IMI-103340', 'PSA-BAB-IMI-103341', 'PSA-BAB-IMI-103343', 'PSA-BAB-IMI-103345', 'PSA-BAB-IMI-103346', 'PSA-BAB-IMI-103347', 'PSA-BAB-IMI-103527', 'PSA-TIM-IMI-101110', 'PSA-TIM-IMI-101109', 'PSA-BAB-IMI-103525', 'PSA-BAB-IMI-103526', 'PSA-BAB-IMI-103523', 'PSA-BAB-IMI-103524', 'PSA-BAB-IMI-103521', 'PSA-BAB-IMI-103522', 'PSA-BAB-IMI-103519', 'PSA-BAB-IMI-103520', 'PSA-BAB-IMI-103518', 'PSA-JSC-IMI-103633', 'PSA-BAB-IMI-103445', 'PSA-BAB-IMI-103444', 'PSA-BAB-IMI-103533', 'PSA-BAB-IMI-103447', 'PSA-JSC-IMI-103635', 'PSA-BAB-IMI-103438', 'PSA-BAB-IMI-103437', 'PSA-BAB-IMI-103435', 'PSA-BAB-IMI-103434', 'PSA-BAB-IMI-103433', 'PSA-BAB-IMI-103443', 'PSA-BAB-IMI-103431', 'PSA-BAB-IMI-103432']\n"
     ]
    }
   ],
   "source": [
    "# make a list of strains that were used for analysis\n",
    "\n",
    "text_file = open(\"../Data/list_of_strains_used.txt\", \"r\")\n",
    "data = text_file.read()\n",
    "strains_list = data.split(\"\\n\")\n",
    "print(strains_list)\n",
    "text_file.close()"
   ]
  },
  {
   "cell_type": "code",
   "execution_count": 8,
   "metadata": {},
   "outputs": [
    {
     "data": {
      "text/html": [
       "<div>\n",
       "<style scoped>\n",
       "    .dataframe tbody tr th:only-of-type {\n",
       "        vertical-align: middle;\n",
       "    }\n",
       "\n",
       "    .dataframe tbody tr th {\n",
       "        vertical-align: top;\n",
       "    }\n",
       "\n",
       "    .dataframe thead th {\n",
       "        text-align: right;\n",
       "    }\n",
       "</style>\n",
       "<table border=\"1\" class=\"dataframe\">\n",
       "  <thead>\n",
       "    <tr style=\"text-align: right;\">\n",
       "      <th>Gene</th>\n",
       "      <th>group_5628</th>\n",
       "      <th>group_1194</th>\n",
       "      <th>group_5333</th>\n",
       "      <th>group_2576</th>\n",
       "      <th>group_7282</th>\n",
       "      <th>group_6392</th>\n",
       "      <th>group_6211</th>\n",
       "      <th>group_14699</th>\n",
       "    </tr>\n",
       "  </thead>\n",
       "  <tbody>\n",
       "    <tr>\n",
       "      <th>PaLo600</th>\n",
       "      <td>0</td>\n",
       "      <td>0</td>\n",
       "      <td>1</td>\n",
       "      <td>1</td>\n",
       "      <td>1</td>\n",
       "      <td>1</td>\n",
       "      <td>0</td>\n",
       "      <td>0</td>\n",
       "    </tr>\n",
       "    <tr>\n",
       "      <th>PaLo601</th>\n",
       "      <td>1</td>\n",
       "      <td>1</td>\n",
       "      <td>0</td>\n",
       "      <td>0</td>\n",
       "      <td>0</td>\n",
       "      <td>0</td>\n",
       "      <td>0</td>\n",
       "      <td>0</td>\n",
       "    </tr>\n",
       "    <tr>\n",
       "      <th>PaLo602</th>\n",
       "      <td>1</td>\n",
       "      <td>1</td>\n",
       "      <td>0</td>\n",
       "      <td>0</td>\n",
       "      <td>0</td>\n",
       "      <td>0</td>\n",
       "      <td>0</td>\n",
       "      <td>0</td>\n",
       "    </tr>\n",
       "    <tr>\n",
       "      <th>PaLo603</th>\n",
       "      <td>1</td>\n",
       "      <td>1</td>\n",
       "      <td>0</td>\n",
       "      <td>0</td>\n",
       "      <td>0</td>\n",
       "      <td>0</td>\n",
       "      <td>0</td>\n",
       "      <td>0</td>\n",
       "    </tr>\n",
       "    <tr>\n",
       "      <th>PaLo604</th>\n",
       "      <td>1</td>\n",
       "      <td>1</td>\n",
       "      <td>0</td>\n",
       "      <td>0</td>\n",
       "      <td>0</td>\n",
       "      <td>0</td>\n",
       "      <td>0</td>\n",
       "      <td>0</td>\n",
       "    </tr>\n",
       "    <tr>\n",
       "      <th>...</th>\n",
       "      <td>...</td>\n",
       "      <td>...</td>\n",
       "      <td>...</td>\n",
       "      <td>...</td>\n",
       "      <td>...</td>\n",
       "      <td>...</td>\n",
       "      <td>...</td>\n",
       "      <td>...</td>\n",
       "    </tr>\n",
       "    <tr>\n",
       "      <th>PSA-BAB-IMI-103434</th>\n",
       "      <td>1</td>\n",
       "      <td>1</td>\n",
       "      <td>0</td>\n",
       "      <td>0</td>\n",
       "      <td>0</td>\n",
       "      <td>0</td>\n",
       "      <td>0</td>\n",
       "      <td>0</td>\n",
       "    </tr>\n",
       "    <tr>\n",
       "      <th>PSA-BAB-IMI-103433</th>\n",
       "      <td>1</td>\n",
       "      <td>0</td>\n",
       "      <td>1</td>\n",
       "      <td>1</td>\n",
       "      <td>1</td>\n",
       "      <td>1</td>\n",
       "      <td>0</td>\n",
       "      <td>0</td>\n",
       "    </tr>\n",
       "    <tr>\n",
       "      <th>PSA-BAB-IMI-103443</th>\n",
       "      <td>0</td>\n",
       "      <td>0</td>\n",
       "      <td>1</td>\n",
       "      <td>1</td>\n",
       "      <td>1</td>\n",
       "      <td>0</td>\n",
       "      <td>0</td>\n",
       "      <td>0</td>\n",
       "    </tr>\n",
       "    <tr>\n",
       "      <th>PSA-BAB-IMI-103431</th>\n",
       "      <td>0</td>\n",
       "      <td>0</td>\n",
       "      <td>1</td>\n",
       "      <td>1</td>\n",
       "      <td>1</td>\n",
       "      <td>0</td>\n",
       "      <td>0</td>\n",
       "      <td>0</td>\n",
       "    </tr>\n",
       "    <tr>\n",
       "      <th>PSA-BAB-IMI-103432</th>\n",
       "      <td>1</td>\n",
       "      <td>1</td>\n",
       "      <td>0</td>\n",
       "      <td>0</td>\n",
       "      <td>0</td>\n",
       "      <td>0</td>\n",
       "      <td>0</td>\n",
       "      <td>0</td>\n",
       "    </tr>\n",
       "  </tbody>\n",
       "</table>\n",
       "<p>476 rows × 8 columns</p>\n",
       "</div>"
      ],
      "text/plain": [
       "Gene               group_5628 group_1194 group_5333 group_2576 group_7282  \\\n",
       "PaLo600                     0          0          1          1          1   \n",
       "PaLo601                     1          1          0          0          0   \n",
       "PaLo602                     1          1          0          0          0   \n",
       "PaLo603                     1          1          0          0          0   \n",
       "PaLo604                     1          1          0          0          0   \n",
       "...                       ...        ...        ...        ...        ...   \n",
       "PSA-BAB-IMI-103434          1          1          0          0          0   \n",
       "PSA-BAB-IMI-103433          1          0          1          1          1   \n",
       "PSA-BAB-IMI-103443          0          0          1          1          1   \n",
       "PSA-BAB-IMI-103431          0          0          1          1          1   \n",
       "PSA-BAB-IMI-103432          1          1          0          0          0   \n",
       "\n",
       "Gene               group_6392 group_6211 group_14699  \n",
       "PaLo600                     1          0           0  \n",
       "PaLo601                     0          0           0  \n",
       "PaLo602                     0          0           0  \n",
       "PaLo603                     0          0           0  \n",
       "PaLo604                     0          0           0  \n",
       "...                       ...        ...         ...  \n",
       "PSA-BAB-IMI-103434          0          0           0  \n",
       "PSA-BAB-IMI-103433          1          0           0  \n",
       "PSA-BAB-IMI-103443          0          0           0  \n",
       "PSA-BAB-IMI-103431          0          0           0  \n",
       "PSA-BAB-IMI-103432          0          0           0  \n",
       "\n",
       "[476 rows x 8 columns]"
      ]
     },
     "execution_count": 8,
     "metadata": {},
     "output_type": "execute_result"
    }
   ],
   "source": [
    "# filter the gene presence/absence matrix to include only significant COGs and strains used\n",
    "\n",
    "# CHANGE THE 'SUGGESTIVE_COGS_.....' DEPENDING ON THE PHAGE BEING ANALYZED!\n",
    "COGs_df = presence_absence_raw_df[presence_absence_raw_df['Gene'].isin(suggestive_COGs_LKD16)]\n",
    "COGs_df = pd.concat([COGs_df[\"Gene\"], COGs_df[strains_list]], axis=1)\n",
    "COGs_df = COGs_df.T\n",
    "COGs_df.columns = COGs_df.iloc[0]\n",
    "COGs_df = COGs_df[1:]\n",
    "COGs_df"
   ]
  },
  {
   "cell_type": "code",
   "execution_count": 42,
   "metadata": {},
   "outputs": [],
   "source": [
    "# Read all phenotype files --> target variable (phage susceptibility)\n",
    "pheno_dataframes = []\n",
    "\n",
    "for pheno_file in glob.glob(\"../Data/all_phenotypes/*.pheno\"):\n",
    "    df = pd.read_csv(pheno_file, sep=\"\\t\")\n",
    "    df = df.set_index('Isolate')\n",
    "    df = df.loc[strains_list]\n",
    "    pheno_dataframes.append(df)"
   ]
  },
  {
   "cell_type": "code",
   "execution_count": 43,
   "metadata": {},
   "outputs": [
    {
     "data": {
      "text/html": [
       "<div>\n",
       "<style scoped>\n",
       "    .dataframe tbody tr th:only-of-type {\n",
       "        vertical-align: middle;\n",
       "    }\n",
       "\n",
       "    .dataframe tbody tr th {\n",
       "        vertical-align: top;\n",
       "    }\n",
       "\n",
       "    .dataframe thead th {\n",
       "        text-align: right;\n",
       "    }\n",
       "</style>\n",
       "<table border=\"1\" class=\"dataframe\">\n",
       "  <thead>\n",
       "    <tr style=\"text-align: right;\">\n",
       "      <th></th>\n",
       "      <th>group_7348</th>\n",
       "      <th>group_1570</th>\n",
       "      <th>group_8144</th>\n",
       "      <th>group_8379</th>\n",
       "      <th>group_5333</th>\n",
       "      <th>group_2576</th>\n",
       "      <th>group_7282</th>\n",
       "      <th>group_3988</th>\n",
       "      <th>group_4056</th>\n",
       "      <th>prs</th>\n",
       "      <th>...</th>\n",
       "      <th>group_1527</th>\n",
       "      <th>group_1489</th>\n",
       "      <th>LMA2</th>\n",
       "      <th>LBL3</th>\n",
       "      <th>LUZ7</th>\n",
       "      <th>14_1</th>\n",
       "      <th>PB1</th>\n",
       "      <th>LKD16</th>\n",
       "      <th>LUZ19</th>\n",
       "      <th>LUZ24</th>\n",
       "    </tr>\n",
       "  </thead>\n",
       "  <tbody>\n",
       "    <tr>\n",
       "      <th>PaLo600</th>\n",
       "      <td>1</td>\n",
       "      <td>1</td>\n",
       "      <td>0</td>\n",
       "      <td>0</td>\n",
       "      <td>1</td>\n",
       "      <td>1</td>\n",
       "      <td>1</td>\n",
       "      <td>1</td>\n",
       "      <td>1</td>\n",
       "      <td>1</td>\n",
       "      <td>...</td>\n",
       "      <td>1</td>\n",
       "      <td>1</td>\n",
       "      <td>0</td>\n",
       "      <td>0</td>\n",
       "      <td>0</td>\n",
       "      <td>0</td>\n",
       "      <td>1</td>\n",
       "      <td>0</td>\n",
       "      <td>1</td>\n",
       "      <td>1</td>\n",
       "    </tr>\n",
       "    <tr>\n",
       "      <th>PaLo601</th>\n",
       "      <td>1</td>\n",
       "      <td>1</td>\n",
       "      <td>1</td>\n",
       "      <td>1</td>\n",
       "      <td>0</td>\n",
       "      <td>0</td>\n",
       "      <td>0</td>\n",
       "      <td>0</td>\n",
       "      <td>0</td>\n",
       "      <td>1</td>\n",
       "      <td>...</td>\n",
       "      <td>0</td>\n",
       "      <td>0</td>\n",
       "      <td>0</td>\n",
       "      <td>0</td>\n",
       "      <td>0</td>\n",
       "      <td>0</td>\n",
       "      <td>0</td>\n",
       "      <td>0</td>\n",
       "      <td>0</td>\n",
       "      <td>0</td>\n",
       "    </tr>\n",
       "    <tr>\n",
       "      <th>PaLo602</th>\n",
       "      <td>0</td>\n",
       "      <td>0</td>\n",
       "      <td>0</td>\n",
       "      <td>0</td>\n",
       "      <td>0</td>\n",
       "      <td>0</td>\n",
       "      <td>0</td>\n",
       "      <td>0</td>\n",
       "      <td>0</td>\n",
       "      <td>0</td>\n",
       "      <td>...</td>\n",
       "      <td>0</td>\n",
       "      <td>0</td>\n",
       "      <td>1</td>\n",
       "      <td>1</td>\n",
       "      <td>0</td>\n",
       "      <td>0</td>\n",
       "      <td>0</td>\n",
       "      <td>0</td>\n",
       "      <td>0</td>\n",
       "      <td>0</td>\n",
       "    </tr>\n",
       "    <tr>\n",
       "      <th>PaLo603</th>\n",
       "      <td>1</td>\n",
       "      <td>1</td>\n",
       "      <td>1</td>\n",
       "      <td>1</td>\n",
       "      <td>0</td>\n",
       "      <td>0</td>\n",
       "      <td>0</td>\n",
       "      <td>0</td>\n",
       "      <td>0</td>\n",
       "      <td>1</td>\n",
       "      <td>...</td>\n",
       "      <td>0</td>\n",
       "      <td>0</td>\n",
       "      <td>0</td>\n",
       "      <td>0</td>\n",
       "      <td>0</td>\n",
       "      <td>0</td>\n",
       "      <td>0</td>\n",
       "      <td>0</td>\n",
       "      <td>0</td>\n",
       "      <td>0</td>\n",
       "    </tr>\n",
       "    <tr>\n",
       "      <th>PaLo604</th>\n",
       "      <td>1</td>\n",
       "      <td>1</td>\n",
       "      <td>0</td>\n",
       "      <td>0</td>\n",
       "      <td>0</td>\n",
       "      <td>0</td>\n",
       "      <td>0</td>\n",
       "      <td>0</td>\n",
       "      <td>0</td>\n",
       "      <td>1</td>\n",
       "      <td>...</td>\n",
       "      <td>1</td>\n",
       "      <td>1</td>\n",
       "      <td>0</td>\n",
       "      <td>1</td>\n",
       "      <td>0</td>\n",
       "      <td>1</td>\n",
       "      <td>0</td>\n",
       "      <td>0</td>\n",
       "      <td>0</td>\n",
       "      <td>0</td>\n",
       "    </tr>\n",
       "    <tr>\n",
       "      <th>...</th>\n",
       "      <td>...</td>\n",
       "      <td>...</td>\n",
       "      <td>...</td>\n",
       "      <td>...</td>\n",
       "      <td>...</td>\n",
       "      <td>...</td>\n",
       "      <td>...</td>\n",
       "      <td>...</td>\n",
       "      <td>...</td>\n",
       "      <td>...</td>\n",
       "      <td>...</td>\n",
       "      <td>...</td>\n",
       "      <td>...</td>\n",
       "      <td>...</td>\n",
       "      <td>...</td>\n",
       "      <td>...</td>\n",
       "      <td>...</td>\n",
       "      <td>...</td>\n",
       "      <td>...</td>\n",
       "      <td>...</td>\n",
       "      <td>...</td>\n",
       "    </tr>\n",
       "    <tr>\n",
       "      <th>PSA-BAB-IMI-103434</th>\n",
       "      <td>0</td>\n",
       "      <td>0</td>\n",
       "      <td>0</td>\n",
       "      <td>0</td>\n",
       "      <td>0</td>\n",
       "      <td>0</td>\n",
       "      <td>0</td>\n",
       "      <td>0</td>\n",
       "      <td>0</td>\n",
       "      <td>0</td>\n",
       "      <td>...</td>\n",
       "      <td>0</td>\n",
       "      <td>0</td>\n",
       "      <td>0</td>\n",
       "      <td>0</td>\n",
       "      <td>1</td>\n",
       "      <td>0</td>\n",
       "      <td>0</td>\n",
       "      <td>0</td>\n",
       "      <td>0</td>\n",
       "      <td>0</td>\n",
       "    </tr>\n",
       "    <tr>\n",
       "      <th>PSA-BAB-IMI-103433</th>\n",
       "      <td>0</td>\n",
       "      <td>0</td>\n",
       "      <td>0</td>\n",
       "      <td>0</td>\n",
       "      <td>1</td>\n",
       "      <td>1</td>\n",
       "      <td>1</td>\n",
       "      <td>1</td>\n",
       "      <td>1</td>\n",
       "      <td>0</td>\n",
       "      <td>...</td>\n",
       "      <td>0</td>\n",
       "      <td>0</td>\n",
       "      <td>0</td>\n",
       "      <td>0</td>\n",
       "      <td>0</td>\n",
       "      <td>0</td>\n",
       "      <td>0</td>\n",
       "      <td>0</td>\n",
       "      <td>0</td>\n",
       "      <td>0</td>\n",
       "    </tr>\n",
       "    <tr>\n",
       "      <th>PSA-BAB-IMI-103443</th>\n",
       "      <td>0</td>\n",
       "      <td>0</td>\n",
       "      <td>1</td>\n",
       "      <td>1</td>\n",
       "      <td>1</td>\n",
       "      <td>1</td>\n",
       "      <td>1</td>\n",
       "      <td>1</td>\n",
       "      <td>1</td>\n",
       "      <td>0</td>\n",
       "      <td>...</td>\n",
       "      <td>0</td>\n",
       "      <td>0</td>\n",
       "      <td>0</td>\n",
       "      <td>1</td>\n",
       "      <td>0</td>\n",
       "      <td>0</td>\n",
       "      <td>0</td>\n",
       "      <td>0</td>\n",
       "      <td>0</td>\n",
       "      <td>0</td>\n",
       "    </tr>\n",
       "    <tr>\n",
       "      <th>PSA-BAB-IMI-103431</th>\n",
       "      <td>0</td>\n",
       "      <td>0</td>\n",
       "      <td>1</td>\n",
       "      <td>1</td>\n",
       "      <td>1</td>\n",
       "      <td>1</td>\n",
       "      <td>1</td>\n",
       "      <td>1</td>\n",
       "      <td>1</td>\n",
       "      <td>0</td>\n",
       "      <td>...</td>\n",
       "      <td>0</td>\n",
       "      <td>0</td>\n",
       "      <td>0</td>\n",
       "      <td>1</td>\n",
       "      <td>0</td>\n",
       "      <td>0</td>\n",
       "      <td>0</td>\n",
       "      <td>0</td>\n",
       "      <td>0</td>\n",
       "      <td>0</td>\n",
       "    </tr>\n",
       "    <tr>\n",
       "      <th>PSA-BAB-IMI-103432</th>\n",
       "      <td>1</td>\n",
       "      <td>1</td>\n",
       "      <td>0</td>\n",
       "      <td>0</td>\n",
       "      <td>0</td>\n",
       "      <td>0</td>\n",
       "      <td>0</td>\n",
       "      <td>0</td>\n",
       "      <td>0</td>\n",
       "      <td>1</td>\n",
       "      <td>...</td>\n",
       "      <td>0</td>\n",
       "      <td>0</td>\n",
       "      <td>1</td>\n",
       "      <td>0</td>\n",
       "      <td>0</td>\n",
       "      <td>0</td>\n",
       "      <td>0</td>\n",
       "      <td>0</td>\n",
       "      <td>0</td>\n",
       "      <td>0</td>\n",
       "    </tr>\n",
       "  </tbody>\n",
       "</table>\n",
       "<p>476 rows × 53 columns</p>\n",
       "</div>"
      ],
      "text/plain": [
       "                   group_7348 group_1570 group_8144 group_8379 group_5333  \\\n",
       "PaLo600                     1          1          0          0          1   \n",
       "PaLo601                     1          1          1          1          0   \n",
       "PaLo602                     0          0          0          0          0   \n",
       "PaLo603                     1          1          1          1          0   \n",
       "PaLo604                     1          1          0          0          0   \n",
       "...                       ...        ...        ...        ...        ...   \n",
       "PSA-BAB-IMI-103434          0          0          0          0          0   \n",
       "PSA-BAB-IMI-103433          0          0          0          0          1   \n",
       "PSA-BAB-IMI-103443          0          0          1          1          1   \n",
       "PSA-BAB-IMI-103431          0          0          1          1          1   \n",
       "PSA-BAB-IMI-103432          1          1          0          0          0   \n",
       "\n",
       "                   group_2576 group_7282 group_3988 group_4056 prs  ...  \\\n",
       "PaLo600                     1          1          1          1   1  ...   \n",
       "PaLo601                     0          0          0          0   1  ...   \n",
       "PaLo602                     0          0          0          0   0  ...   \n",
       "PaLo603                     0          0          0          0   1  ...   \n",
       "PaLo604                     0          0          0          0   1  ...   \n",
       "...                       ...        ...        ...        ...  ..  ...   \n",
       "PSA-BAB-IMI-103434          0          0          0          0   0  ...   \n",
       "PSA-BAB-IMI-103433          1          1          1          1   0  ...   \n",
       "PSA-BAB-IMI-103443          1          1          1          1   0  ...   \n",
       "PSA-BAB-IMI-103431          1          1          1          1   0  ...   \n",
       "PSA-BAB-IMI-103432          0          0          0          0   1  ...   \n",
       "\n",
       "                   group_1527 group_1489 LMA2 LBL3 LUZ7 14_1 PB1 LKD16 LUZ19  \\\n",
       "PaLo600                     1          1    0    0    0    0   1     0     1   \n",
       "PaLo601                     0          0    0    0    0    0   0     0     0   \n",
       "PaLo602                     0          0    1    1    0    0   0     0     0   \n",
       "PaLo603                     0          0    0    0    0    0   0     0     0   \n",
       "PaLo604                     1          1    0    1    0    1   0     0     0   \n",
       "...                       ...        ...  ...  ...  ...  ...  ..   ...   ...   \n",
       "PSA-BAB-IMI-103434          0          0    0    0    1    0   0     0     0   \n",
       "PSA-BAB-IMI-103433          0          0    0    0    0    0   0     0     0   \n",
       "PSA-BAB-IMI-103443          0          0    0    1    0    0   0     0     0   \n",
       "PSA-BAB-IMI-103431          0          0    0    1    0    0   0     0     0   \n",
       "PSA-BAB-IMI-103432          0          0    1    0    0    0   0     0     0   \n",
       "\n",
       "                   LUZ24  \n",
       "PaLo600                1  \n",
       "PaLo601                0  \n",
       "PaLo602                0  \n",
       "PaLo603                0  \n",
       "PaLo604                0  \n",
       "...                  ...  \n",
       "PSA-BAB-IMI-103434     0  \n",
       "PSA-BAB-IMI-103433     0  \n",
       "PSA-BAB-IMI-103443     0  \n",
       "PSA-BAB-IMI-103431     0  \n",
       "PSA-BAB-IMI-103432     0  \n",
       "\n",
       "[476 rows x 53 columns]"
      ]
     },
     "execution_count": 43,
     "metadata": {},
     "output_type": "execute_result"
    }
   ],
   "source": [
    "combined_df = pd.concat([COGs_df]+pheno_dataframes, axis=1)\n",
    "combined_df"
   ]
  },
  {
   "cell_type": "code",
   "execution_count": 44,
   "metadata": {},
   "outputs": [],
   "source": [
    "# make list of phages\n",
    "phages_list = [\"LUZ24\", \"LUZ19\", \"LKD16\", \"LUZ7\", \"LBL3\", \"14_1\", \"PB1\", \"LMA2\"]"
   ]
  },
  {
   "cell_type": "code",
   "execution_count": 45,
   "metadata": {},
   "outputs": [
    {
     "data": {
      "text/plain": [
       "array([[1, 1, 0, ..., 1, 1, 1],\n",
       "       [1, 1, 1, ..., 0, 0, 0],\n",
       "       [0, 0, 0, ..., 0, 0, 0],\n",
       "       ...,\n",
       "       [0, 0, 1, ..., 0, 0, 0],\n",
       "       [0, 0, 1, ..., 0, 0, 0],\n",
       "       [1, 1, 0, ..., 0, 0, 0]], dtype=object)"
      ]
     },
     "execution_count": 45,
     "metadata": {},
     "output_type": "execute_result"
    }
   ],
   "source": [
    "# make array of samples\n",
    "X = combined_df.drop(columns=phages_list).to_numpy()\n",
    "X"
   ]
  },
  {
   "cell_type": "code",
   "execution_count": 46,
   "metadata": {},
   "outputs": [
    {
     "data": {
      "text/plain": [
       "(476, 45)"
      ]
     },
     "execution_count": 46,
     "metadata": {},
     "output_type": "execute_result"
    }
   ],
   "source": [
    "X.shape"
   ]
  },
  {
   "cell_type": "code",
   "execution_count": 47,
   "metadata": {},
   "outputs": [
    {
     "data": {
      "text/html": [
       "<div>\n",
       "<style scoped>\n",
       "    .dataframe tbody tr th:only-of-type {\n",
       "        vertical-align: middle;\n",
       "    }\n",
       "\n",
       "    .dataframe tbody tr th {\n",
       "        vertical-align: top;\n",
       "    }\n",
       "\n",
       "    .dataframe thead th {\n",
       "        text-align: right;\n",
       "    }\n",
       "</style>\n",
       "<table border=\"1\" class=\"dataframe\">\n",
       "  <thead>\n",
       "    <tr style=\"text-align: right;\">\n",
       "      <th></th>\n",
       "      <th>LUZ24</th>\n",
       "      <th>LUZ19</th>\n",
       "      <th>LKD16</th>\n",
       "      <th>LUZ7</th>\n",
       "      <th>LBL3</th>\n",
       "      <th>14_1</th>\n",
       "      <th>PB1</th>\n",
       "      <th>LMA2</th>\n",
       "    </tr>\n",
       "  </thead>\n",
       "  <tbody>\n",
       "    <tr>\n",
       "      <th>PaLo600</th>\n",
       "      <td>1</td>\n",
       "      <td>1</td>\n",
       "      <td>0</td>\n",
       "      <td>0</td>\n",
       "      <td>0</td>\n",
       "      <td>0</td>\n",
       "      <td>1</td>\n",
       "      <td>0</td>\n",
       "    </tr>\n",
       "    <tr>\n",
       "      <th>PaLo601</th>\n",
       "      <td>0</td>\n",
       "      <td>0</td>\n",
       "      <td>0</td>\n",
       "      <td>0</td>\n",
       "      <td>0</td>\n",
       "      <td>0</td>\n",
       "      <td>0</td>\n",
       "      <td>0</td>\n",
       "    </tr>\n",
       "    <tr>\n",
       "      <th>PaLo602</th>\n",
       "      <td>0</td>\n",
       "      <td>0</td>\n",
       "      <td>0</td>\n",
       "      <td>0</td>\n",
       "      <td>1</td>\n",
       "      <td>0</td>\n",
       "      <td>0</td>\n",
       "      <td>1</td>\n",
       "    </tr>\n",
       "    <tr>\n",
       "      <th>PaLo603</th>\n",
       "      <td>0</td>\n",
       "      <td>0</td>\n",
       "      <td>0</td>\n",
       "      <td>0</td>\n",
       "      <td>0</td>\n",
       "      <td>0</td>\n",
       "      <td>0</td>\n",
       "      <td>0</td>\n",
       "    </tr>\n",
       "    <tr>\n",
       "      <th>PaLo604</th>\n",
       "      <td>0</td>\n",
       "      <td>0</td>\n",
       "      <td>0</td>\n",
       "      <td>0</td>\n",
       "      <td>1</td>\n",
       "      <td>1</td>\n",
       "      <td>0</td>\n",
       "      <td>0</td>\n",
       "    </tr>\n",
       "    <tr>\n",
       "      <th>...</th>\n",
       "      <td>...</td>\n",
       "      <td>...</td>\n",
       "      <td>...</td>\n",
       "      <td>...</td>\n",
       "      <td>...</td>\n",
       "      <td>...</td>\n",
       "      <td>...</td>\n",
       "      <td>...</td>\n",
       "    </tr>\n",
       "    <tr>\n",
       "      <th>PSA-BAB-IMI-103434</th>\n",
       "      <td>0</td>\n",
       "      <td>0</td>\n",
       "      <td>0</td>\n",
       "      <td>1</td>\n",
       "      <td>0</td>\n",
       "      <td>0</td>\n",
       "      <td>0</td>\n",
       "      <td>0</td>\n",
       "    </tr>\n",
       "    <tr>\n",
       "      <th>PSA-BAB-IMI-103433</th>\n",
       "      <td>0</td>\n",
       "      <td>0</td>\n",
       "      <td>0</td>\n",
       "      <td>0</td>\n",
       "      <td>0</td>\n",
       "      <td>0</td>\n",
       "      <td>0</td>\n",
       "      <td>0</td>\n",
       "    </tr>\n",
       "    <tr>\n",
       "      <th>PSA-BAB-IMI-103443</th>\n",
       "      <td>0</td>\n",
       "      <td>0</td>\n",
       "      <td>0</td>\n",
       "      <td>0</td>\n",
       "      <td>1</td>\n",
       "      <td>0</td>\n",
       "      <td>0</td>\n",
       "      <td>0</td>\n",
       "    </tr>\n",
       "    <tr>\n",
       "      <th>PSA-BAB-IMI-103431</th>\n",
       "      <td>0</td>\n",
       "      <td>0</td>\n",
       "      <td>0</td>\n",
       "      <td>0</td>\n",
       "      <td>1</td>\n",
       "      <td>0</td>\n",
       "      <td>0</td>\n",
       "      <td>0</td>\n",
       "    </tr>\n",
       "    <tr>\n",
       "      <th>PSA-BAB-IMI-103432</th>\n",
       "      <td>0</td>\n",
       "      <td>0</td>\n",
       "      <td>0</td>\n",
       "      <td>0</td>\n",
       "      <td>0</td>\n",
       "      <td>0</td>\n",
       "      <td>0</td>\n",
       "      <td>1</td>\n",
       "    </tr>\n",
       "  </tbody>\n",
       "</table>\n",
       "<p>476 rows × 8 columns</p>\n",
       "</div>"
      ],
      "text/plain": [
       "                    LUZ24  LUZ19  LKD16  LUZ7  LBL3  14_1  PB1  LMA2\n",
       "PaLo600                 1      1      0     0     0     0    1     0\n",
       "PaLo601                 0      0      0     0     0     0    0     0\n",
       "PaLo602                 0      0      0     0     1     0    0     1\n",
       "PaLo603                 0      0      0     0     0     0    0     0\n",
       "PaLo604                 0      0      0     0     1     1    0     0\n",
       "...                   ...    ...    ...   ...   ...   ...  ...   ...\n",
       "PSA-BAB-IMI-103434      0      0      0     1     0     0    0     0\n",
       "PSA-BAB-IMI-103433      0      0      0     0     0     0    0     0\n",
       "PSA-BAB-IMI-103443      0      0      0     0     1     0    0     0\n",
       "PSA-BAB-IMI-103431      0      0      0     0     1     0    0     0\n",
       "PSA-BAB-IMI-103432      0      0      0     0     0     0    0     1\n",
       "\n",
       "[476 rows x 8 columns]"
      ]
     },
     "execution_count": 47,
     "metadata": {},
     "output_type": "execute_result"
    }
   ],
   "source": [
    "pheno_df = combined_df[phages_list]\n",
    "pheno_df"
   ]
  },
  {
   "cell_type": "markdown",
   "metadata": {},
   "source": [
    "## Data pre-processing"
   ]
  },
  {
   "cell_type": "markdown",
   "metadata": {},
   "source": [
    "### Create oversampler\n",
    "Random oversampling was performed due to class imbalance. The dataset contained more instances with target variable 0 than 1."
   ]
  },
  {
   "cell_type": "code",
   "execution_count": 48,
   "metadata": {},
   "outputs": [],
   "source": [
    "from imblearn.over_sampling import RandomOverSampler\n",
    "from collections import Counter"
   ]
  },
  {
   "cell_type": "code",
   "execution_count": 49,
   "metadata": {},
   "outputs": [],
   "source": [
    "# Create random oversampler --> Randomly duplicate examples in the minority class.\n",
    "ros = RandomOverSampler(random_state=0)"
   ]
  },
  {
   "cell_type": "markdown",
   "metadata": {},
   "source": [
    "### Test oversampler"
   ]
  },
  {
   "cell_type": "code",
   "execution_count": 50,
   "metadata": {},
   "outputs": [],
   "source": [
    "# Split dataset into training and test sets\n",
    "# In this case, the 'y' is still in the form of a pandas df\n",
    "X_train, X_test, y_train, y_test = train_test_split(X, pheno_df[\"LMA2\"], test_size=0.2, random_state=0)"
   ]
  },
  {
   "cell_type": "code",
   "execution_count": 51,
   "metadata": {},
   "outputs": [
    {
     "data": {
      "text/plain": [
       "((380, 45), (380,), (96, 45), (96,))"
      ]
     },
     "execution_count": 51,
     "metadata": {},
     "output_type": "execute_result"
    }
   ],
   "source": [
    "X_train.shape, y_train.shape, X_test.shape, y_test.shape"
   ]
  },
  {
   "cell_type": "code",
   "execution_count": 52,
   "metadata": {},
   "outputs": [
    {
     "data": {
      "text/plain": [
       "LMA2\n",
       "0    209\n",
       "1    171\n",
       "Name: count, dtype: int64"
      ]
     },
     "execution_count": 52,
     "metadata": {},
     "output_type": "execute_result"
    }
   ],
   "source": [
    "y_train.value_counts()"
   ]
  },
  {
   "cell_type": "code",
   "execution_count": 53,
   "metadata": {},
   "outputs": [
    {
     "data": {
      "text/plain": [
       "LMA2\n",
       "0    55\n",
       "1    41\n",
       "Name: count, dtype: int64"
      ]
     },
     "execution_count": 53,
     "metadata": {},
     "output_type": "execute_result"
    }
   ],
   "source": [
    "y_test.value_counts()"
   ]
  },
  {
   "cell_type": "code",
   "execution_count": 54,
   "metadata": {},
   "outputs": [],
   "source": [
    "X_resampled, y_resampled = ros.fit_resample(X_train, y_train)"
   ]
  },
  {
   "cell_type": "code",
   "execution_count": 55,
   "metadata": {},
   "outputs": [
    {
     "data": {
      "text/plain": [
       "array([[0, 0, 0, ..., 0, 0, 0],\n",
       "       [0, 0, 0, ..., 0, 0, 0],\n",
       "       [0, 0, 0, ..., 0, 0, 0],\n",
       "       ...,\n",
       "       [0, 0, 0, ..., 0, 0, 0],\n",
       "       [0, 1, 0, ..., 0, 0, 0],\n",
       "       [0, 0, 0, ..., 0, 0, 0]], dtype=object)"
      ]
     },
     "execution_count": 55,
     "metadata": {},
     "output_type": "execute_result"
    }
   ],
   "source": [
    "X_resampled"
   ]
  },
  {
   "cell_type": "code",
   "execution_count": 56,
   "metadata": {},
   "outputs": [
    {
     "data": {
      "text/plain": [
       "LMA2\n",
       "0    209\n",
       "1    209\n",
       "Name: count, dtype: int64"
      ]
     },
     "execution_count": 56,
     "metadata": {},
     "output_type": "execute_result"
    }
   ],
   "source": [
    "y_resampled.value_counts()"
   ]
  },
  {
   "cell_type": "markdown",
   "metadata": {},
   "source": [
    "## Random Forest"
   ]
  },
  {
   "cell_type": "code",
   "execution_count": 57,
   "metadata": {},
   "outputs": [],
   "source": [
    "from sklearn.ensemble import RandomForestClassifier"
   ]
  },
  {
   "cell_type": "code",
   "execution_count": 58,
   "metadata": {},
   "outputs": [],
   "source": [
    "def RandomForestOver(phage):\n",
    "    # Train test split\n",
    "    X_train, X_test, y_train, y_test = train_test_split(X, pheno_df[phage], test_size=0.2, random_state=0)\n",
    "\n",
    "    # Oversampling the training data\n",
    "    X_resampled, y_resampled = ros.fit_resample(X_train, y_train)\n",
    "\n",
    "    # Define the parameters that are gonna be cross-validated (estimated)\n",
    "    parameters = {'n_estimators':[10, 20, 50, 100, 150, 200]}\n",
    "\n",
    "    # Find best parameters for RandomForestClassifier\n",
    "    clf = GridSearchCV(RandomForestClassifier(random_state=0), parameters).fit(X_resampled, y_resampled)\n",
    "\n",
    "    # Train RandomForestClassifier with the best estimator\n",
    "    rf_best = clf.best_estimator_.fit(X_resampled, y_resampled)\n",
    "\n",
    "    # Predict using the model\n",
    "    y_pred = rf_best.predict(X_test)\n",
    "\n",
    "    # Generate classification report\n",
    "    report = classification_report(y_pred=y_pred, y_true=y_test)\n",
    "\n",
    "    # Probabilities of predicting an infection (1)\n",
    "    y_score_Infection = rf_best.predict_proba(X_test)[:, 1]\n",
    "\n",
    "    # ROC curve\n",
    "    fpr, tpr, thresholds = roc_curve(y_true=y_test, y_score=y_score_Infection, pos_label=1)\n",
    "\n",
    "    # Area under ROC curve (AUC)\n",
    "    roc_auc = auc(fpr, tpr)\n",
    "\n",
    "    return {'report': report, 'fpr': fpr, 'tpr': tpr, 'roc_auc': roc_auc}"
   ]
  },
  {
   "cell_type": "code",
   "execution_count": 26,
   "metadata": {},
   "outputs": [],
   "source": [
    "random_forest_results_over_LKD16 = RandomForestOver('LKD16')"
   ]
  },
  {
   "cell_type": "code",
   "execution_count": 27,
   "metadata": {},
   "outputs": [
    {
     "name": "stdout",
     "output_type": "stream",
     "text": [
      "              precision    recall  f1-score   support\n",
      "\n",
      "           0       0.82      0.82      0.82        68\n",
      "           1       0.57      0.57      0.57        28\n",
      "\n",
      "    accuracy                           0.75        96\n",
      "   macro avg       0.70      0.70      0.70        96\n",
      "weighted avg       0.75      0.75      0.75        96\n",
      "\n"
     ]
    }
   ],
   "source": [
    "print(random_forest_results_over_LKD16['report'])"
   ]
  },
  {
   "cell_type": "code",
   "execution_count": null,
   "metadata": {},
   "outputs": [],
   "source": [
    "# To run the RandomForestOver() function for another phage, the dataframe 'COGs_df' has to be changed to reflect the suggestive COGs from that particular phage"
   ]
  },
  {
   "cell_type": "code",
   "execution_count": 59,
   "metadata": {},
   "outputs": [],
   "source": [
    "random_forest_results_over_LMA2 = RandomForestOver('LMA2')"
   ]
  },
  {
   "cell_type": "code",
   "execution_count": 60,
   "metadata": {},
   "outputs": [
    {
     "name": "stdout",
     "output_type": "stream",
     "text": [
      "              precision    recall  f1-score   support\n",
      "\n",
      "           0       0.83      0.45      0.59        55\n",
      "           1       0.55      0.88      0.67        41\n",
      "\n",
      "    accuracy                           0.64        96\n",
      "   macro avg       0.69      0.67      0.63        96\n",
      "weighted avg       0.71      0.64      0.62        96\n",
      "\n"
     ]
    }
   ],
   "source": [
    "print(random_forest_results_over_LMA2['report'])"
   ]
  },
  {
   "cell_type": "code",
   "execution_count": 100,
   "metadata": {},
   "outputs": [],
   "source": [
    "random_forest_results_over_LUZ7 = RandomForestOver('LUZ7')"
   ]
  },
  {
   "cell_type": "code",
   "execution_count": 101,
   "metadata": {},
   "outputs": [
    {
     "name": "stdout",
     "output_type": "stream",
     "text": [
      "              precision    recall  f1-score   support\n",
      "\n",
      "           0       0.86      0.72      0.79        76\n",
      "           1       0.34      0.55      0.42        20\n",
      "\n",
      "    accuracy                           0.69        96\n",
      "   macro avg       0.60      0.64      0.60        96\n",
      "weighted avg       0.75      0.69      0.71        96\n",
      "\n"
     ]
    }
   ],
   "source": [
    "print(random_forest_results_over_LUZ7['report'])"
   ]
  },
  {
   "cell_type": "code",
   "execution_count": 132,
   "metadata": {},
   "outputs": [],
   "source": [
    "random_forest_results_over_LUZ19 = RandomForestOver('LUZ19')"
   ]
  },
  {
   "cell_type": "code",
   "execution_count": 133,
   "metadata": {},
   "outputs": [
    {
     "name": "stdout",
     "output_type": "stream",
     "text": [
      "              precision    recall  f1-score   support\n",
      "\n",
      "           0       0.78      0.48      0.60        66\n",
      "           1       0.38      0.70      0.49        30\n",
      "\n",
      "    accuracy                           0.55        96\n",
      "   macro avg       0.58      0.59      0.55        96\n",
      "weighted avg       0.66      0.55      0.57        96\n",
      "\n"
     ]
    }
   ],
   "source": [
    "print(random_forest_results_over_LUZ19['report'])"
   ]
  },
  {
   "cell_type": "code",
   "execution_count": 134,
   "metadata": {},
   "outputs": [
    {
     "data": {
      "image/png": "[encoded data removed]",
      "text/plain": [
       "<Figure size 1000x800 with 1 Axes>"
      ]
     },
     "metadata": {},
     "output_type": "display_data"
    }
   ],
   "source": [
    "plt.figure(figsize=(10, 8))\n",
    "\n",
    "display_LKD16 = RocCurveDisplay(\n",
    "        fpr=random_forest_results_over_LKD16['fpr'], \n",
    "        tpr=random_forest_results_over_LKD16['tpr'], \n",
    "        roc_auc=random_forest_results_over_LKD16['roc_auc'], \n",
    "        estimator_name=f'Phage LKD16'\n",
    "    )\n",
    "display_LKD16.plot(ax=plt.gca())\n",
    "\n",
    "display_LMA2 = RocCurveDisplay(\n",
    "        fpr=random_forest_results_over_LMA2['fpr'], \n",
    "        tpr=random_forest_results_over_LMA2['tpr'], \n",
    "        roc_auc=random_forest_results_over_LMA2['roc_auc'], \n",
    "        estimator_name=f'Phage LMA2'\n",
    "    )\n",
    "display_LMA2.plot(ax=plt.gca())\n",
    "\n",
    "display_LUZ7 = RocCurveDisplay(\n",
    "        fpr=random_forest_results_over_LUZ7['fpr'], \n",
    "        tpr=random_forest_results_over_LUZ7['tpr'], \n",
    "        roc_auc=random_forest_results_over_LUZ7['roc_auc'], \n",
    "        estimator_name=f'Phage LUZ7'\n",
    "    )\n",
    "display_LUZ7.plot(ax=plt.gca())\n",
    "\n",
    "display_LUZ19 = RocCurveDisplay(\n",
    "        fpr=random_forest_results_over_LUZ19['fpr'], \n",
    "        tpr=random_forest_results_over_LUZ19['tpr'], \n",
    "        roc_auc=random_forest_results_over_LUZ19['roc_auc'], \n",
    "        estimator_name=f'Phage LUZ19'\n",
    "    )\n",
    "display_LUZ19.plot(ax=plt.gca())\n",
    "\n",
    "plt.title(\"Random Forest with Oversampling\")\n",
    "plt.xlabel(\"False Positive Rate\")\n",
    "plt.ylabel(\"True Positive Rate\")\n",
    "plt.legend(loc=\"lower right\")\n",
    "plt.show()"
   ]
  },
  {
   "cell_type": "markdown",
   "metadata": {},
   "source": [
    "## Gradient Boosting"
   ]
  },
  {
   "cell_type": "code",
   "execution_count": 61,
   "metadata": {},
   "outputs": [],
   "source": [
    "from sklearn.ensemble import GradientBoostingClassifier"
   ]
  },
  {
   "cell_type": "code",
   "execution_count": 62,
   "metadata": {},
   "outputs": [],
   "source": [
    "def GradientBoostOver(phage):\n",
    "     # Train test split\n",
    "    X_train, X_test, y_train, y_test = train_test_split(X, pheno_df[phage], test_size=0.2, random_state=0)\n",
    "\n",
    "    # Oversampling the training data\n",
    "    X_resampled, y_resampled = ros.fit_resample(X_train, y_train)\n",
    "\n",
    "    # Define the parameters that are gonna be cross-validated (estimated)\n",
    "    parameters = {'n_estimators':[10, 20, 50, 100, 150, 200], 'max_depth':[3, None]}\n",
    "\n",
    "    # Find best parameters for GradientBoostingClassifier\n",
    "    clf = GridSearchCV(GradientBoostingClassifier(learning_rate=1, random_state=0), parameters).fit(X_resampled, y_resampled)\n",
    "\n",
    "    # Train GradientBoostingClassifier with the best estimator\n",
    "    gb_best = clf.best_estimator_.fit(X_resampled, y_resampled)\n",
    "\n",
    "    # Predict using the model\n",
    "    y_pred = gb_best.predict(X_test)\n",
    "\n",
    "    # Generate classification report\n",
    "    report = classification_report(y_pred=y_pred, y_true=y_test)\n",
    "\n",
    "    # Probabilities of predicting an infection (1)\n",
    "    y_score_Infection = gb_best.predict_proba(X_test)[:, 1]\n",
    "\n",
    "    # ROC curve\n",
    "    fpr, tpr, thresholds = roc_curve(y_true=y_test, y_score=y_score_Infection, pos_label=1)\n",
    "\n",
    "    # Area under ROC curve (AUC)\n",
    "    roc_auc = auc(fpr, tpr)\n",
    "\n",
    "    return {'report': report, 'fpr': fpr, 'tpr': tpr, 'roc_auc': roc_auc}"
   ]
  },
  {
   "cell_type": "code",
   "execution_count": 30,
   "metadata": {},
   "outputs": [],
   "source": [
    "gradient_boosting_results_over_LKD16 = GradientBoostOver('LKD16')"
   ]
  },
  {
   "cell_type": "code",
   "execution_count": 31,
   "metadata": {},
   "outputs": [
    {
     "name": "stdout",
     "output_type": "stream",
     "text": [
      "              precision    recall  f1-score   support\n",
      "\n",
      "           0       0.82      0.82      0.82        68\n",
      "           1       0.57      0.57      0.57        28\n",
      "\n",
      "    accuracy                           0.75        96\n",
      "   macro avg       0.70      0.70      0.70        96\n",
      "weighted avg       0.75      0.75      0.75        96\n",
      "\n"
     ]
    }
   ],
   "source": [
    "print(gradient_boosting_results_over_LKD16['report'])"
   ]
  },
  {
   "cell_type": "code",
   "execution_count": 63,
   "metadata": {},
   "outputs": [],
   "source": [
    "gradient_boosting_results_over_LMA2 = GradientBoostOver('LMA2')"
   ]
  },
  {
   "cell_type": "code",
   "execution_count": 64,
   "metadata": {},
   "outputs": [
    {
     "name": "stdout",
     "output_type": "stream",
     "text": [
      "              precision    recall  f1-score   support\n",
      "\n",
      "           0       0.84      0.38      0.53        55\n",
      "           1       0.52      0.90      0.66        41\n",
      "\n",
      "    accuracy                           0.60        96\n",
      "   macro avg       0.68      0.64      0.59        96\n",
      "weighted avg       0.70      0.60      0.58        96\n",
      "\n"
     ]
    }
   ],
   "source": [
    "print(gradient_boosting_results_over_LMA2['report'])"
   ]
  },
  {
   "cell_type": "code",
   "execution_count": null,
   "metadata": {},
   "outputs": [],
   "source": [
    "# To run the GradientBoostOver() function for another phage, the dataframe 'COGs_df' has to be changed to reflect the suggestive COGs from that particular phage"
   ]
  },
  {
   "cell_type": "code",
   "execution_count": 104,
   "metadata": {},
   "outputs": [],
   "source": [
    "gradient_boosting_results_over_LUZ7 = GradientBoostOver('LUZ7')"
   ]
  },
  {
   "cell_type": "code",
   "execution_count": 105,
   "metadata": {},
   "outputs": [
    {
     "name": "stdout",
     "output_type": "stream",
     "text": [
      "              precision    recall  f1-score   support\n",
      "\n",
      "           0       0.86      0.71      0.78        76\n",
      "           1       0.33      0.55      0.42        20\n",
      "\n",
      "    accuracy                           0.68        96\n",
      "   macro avg       0.60      0.63      0.60        96\n",
      "weighted avg       0.75      0.68      0.70        96\n",
      "\n"
     ]
    }
   ],
   "source": [
    "print(gradient_boosting_results_over_LUZ7['report'])"
   ]
  },
  {
   "cell_type": "code",
   "execution_count": 137,
   "metadata": {},
   "outputs": [],
   "source": [
    "gradient_boosting_results_over_LUZ19 = GradientBoostOver('LUZ19')"
   ]
  },
  {
   "cell_type": "code",
   "execution_count": 138,
   "metadata": {},
   "outputs": [
    {
     "name": "stdout",
     "output_type": "stream",
     "text": [
      "              precision    recall  f1-score   support\n",
      "\n",
      "           0       0.78      0.64      0.70        66\n",
      "           1       0.43      0.60      0.50        30\n",
      "\n",
      "    accuracy                           0.62        96\n",
      "   macro avg       0.60      0.62      0.60        96\n",
      "weighted avg       0.67      0.62      0.64        96\n",
      "\n"
     ]
    }
   ],
   "source": [
    "print(gradient_boosting_results_over_LUZ19['report'])"
   ]
  },
  {
   "cell_type": "code",
   "execution_count": 139,
   "metadata": {},
   "outputs": [
    {
     "data": {
      "image/png": "[encoded data removed]",
      "text/plain": [
       "<Figure size 1000x800 with 1 Axes>"
      ]
     },
     "metadata": {},
     "output_type": "display_data"
    }
   ],
   "source": [
    "plt.figure(figsize=(10, 8))\n",
    "\n",
    "display_LKD16 = RocCurveDisplay(\n",
    "        fpr=gradient_boosting_results_over_LKD16['fpr'], \n",
    "        tpr=gradient_boosting_results_over_LKD16['tpr'], \n",
    "        roc_auc=gradient_boosting_results_over_LKD16['roc_auc'], \n",
    "        estimator_name=f'Phage LKD16'\n",
    "    )\n",
    "display_LKD16.plot(ax=plt.gca())\n",
    "\n",
    "display_LMA2 = RocCurveDisplay(\n",
    "        fpr=gradient_boosting_results_over_LMA2['fpr'], \n",
    "        tpr=gradient_boosting_results_over_LMA2['tpr'], \n",
    "        roc_auc=gradient_boosting_results_over_LMA2['roc_auc'], \n",
    "        estimator_name=f'Phage LMA2'\n",
    "    )\n",
    "display_LMA2.plot(ax=plt.gca())\n",
    "\n",
    "display_LUZ7 = RocCurveDisplay(\n",
    "        fpr=gradient_boosting_results_over_LUZ7['fpr'], \n",
    "        tpr=gradient_boosting_results_over_LUZ7['tpr'], \n",
    "        roc_auc=gradient_boosting_results_over_LUZ7['roc_auc'], \n",
    "        estimator_name=f'Phage LUZ7'\n",
    "    )\n",
    "display_LUZ7.plot(ax=plt.gca())\n",
    "\n",
    "display_LUZ19 = RocCurveDisplay(\n",
    "        fpr=gradient_boosting_results_over_LUZ19['fpr'], \n",
    "        tpr=gradient_boosting_results_over_LUZ19['tpr'], \n",
    "        roc_auc=gradient_boosting_results_over_LUZ19['roc_auc'], \n",
    "        estimator_name=f'Phage LUZ19'\n",
    "    )\n",
    "display_LUZ19.plot(ax=plt.gca())\n",
    "\n",
    "plt.title(\"Gradient Boosting with Oversampling\")\n",
    "plt.xlabel(\"False Positive Rate\")\n",
    "plt.ylabel(\"True Positive Rate\")\n",
    "plt.legend(loc=\"lower right\")\n",
    "plt.show()"
   ]
  },
  {
   "cell_type": "markdown",
   "metadata": {},
   "source": [
    "## Logistic Regression"
   ]
  },
  {
   "cell_type": "code",
   "execution_count": 65,
   "metadata": {},
   "outputs": [],
   "source": [
    "from sklearn.linear_model import LogisticRegressionCV"
   ]
  },
  {
   "cell_type": "code",
   "execution_count": 66,
   "metadata": {},
   "outputs": [],
   "source": [
    "def LogRegOver(phage):\n",
    "    # Train test split\n",
    "    X_train, X_test, y_train, y_test = train_test_split(X, pheno_df[phage], test_size=0.2, random_state=0)\n",
    "\n",
    "    # Oversampling the training data\n",
    "    X_resampled, y_resampled = ros.fit_resample(X_train, y_train)\n",
    "\n",
    "    # Make and fit a LogisticRegressionCV\n",
    "    lr = LogisticRegressionCV(random_state=0).fit(X_resampled, y_resampled)\n",
    "\n",
    "    # Predict using the model\n",
    "    y_pred = lr.predict(X_test)\n",
    "\n",
    "    # Generate classification report\n",
    "    report = classification_report(y_pred=y_pred, y_true=y_test)\n",
    "\n",
    "    # Probabilities of predicting an infection (1)\n",
    "    y_score_Infection = lr.predict_proba(X_test)[:, 1]\n",
    "\n",
    "    # ROC curve\n",
    "    fpr, tpr, thresholds = roc_curve(y_true=y_test, y_score=y_score_Infection, pos_label=1)\n",
    "\n",
    "    # Area under ROC curve (AUC)\n",
    "    roc_auc = auc(fpr, tpr)\n",
    "\n",
    "    return {'report': report, 'fpr': fpr, 'tpr': tpr, 'roc_auc': roc_auc}"
   ]
  },
  {
   "cell_type": "code",
   "execution_count": 34,
   "metadata": {},
   "outputs": [],
   "source": [
    "log_regression_results_over_LKD16 = LogRegOver('LKD16')"
   ]
  },
  {
   "cell_type": "code",
   "execution_count": 35,
   "metadata": {},
   "outputs": [
    {
     "name": "stdout",
     "output_type": "stream",
     "text": [
      "              precision    recall  f1-score   support\n",
      "\n",
      "           0       0.82      0.82      0.82        68\n",
      "           1       0.57      0.57      0.57        28\n",
      "\n",
      "    accuracy                           0.75        96\n",
      "   macro avg       0.70      0.70      0.70        96\n",
      "weighted avg       0.75      0.75      0.75        96\n",
      "\n"
     ]
    }
   ],
   "source": [
    "print(log_regression_results_over_LKD16['report'])"
   ]
  },
  {
   "cell_type": "code",
   "execution_count": null,
   "metadata": {},
   "outputs": [],
   "source": [
    "# To run the LogRegOver() function for another phage, the dataframe 'COGs_df' has to be changed to reflect the suggestive COGs from that particular phage"
   ]
  },
  {
   "cell_type": "code",
   "execution_count": 67,
   "metadata": {},
   "outputs": [],
   "source": [
    "log_regression_results_over_LMA2 = LogRegOver('LMA2')"
   ]
  },
  {
   "cell_type": "code",
   "execution_count": 68,
   "metadata": {},
   "outputs": [
    {
     "name": "stdout",
     "output_type": "stream",
     "text": [
      "              precision    recall  f1-score   support\n",
      "\n",
      "           0       0.83      0.44      0.57        55\n",
      "           1       0.54      0.88      0.67        41\n",
      "\n",
      "    accuracy                           0.62        96\n",
      "   macro avg       0.68      0.66      0.62        96\n",
      "weighted avg       0.70      0.62      0.61        96\n",
      "\n"
     ]
    }
   ],
   "source": [
    "print(log_regression_results_over_LMA2['report'])"
   ]
  },
  {
   "cell_type": "code",
   "execution_count": 108,
   "metadata": {},
   "outputs": [],
   "source": [
    "log_regression_results_over_LUZ7 = LogRegOver('LUZ7')"
   ]
  },
  {
   "cell_type": "code",
   "execution_count": 109,
   "metadata": {},
   "outputs": [
    {
     "name": "stdout",
     "output_type": "stream",
     "text": [
      "              precision    recall  f1-score   support\n",
      "\n",
      "           0       0.83      0.64      0.73        76\n",
      "           1       0.27      0.50      0.35        20\n",
      "\n",
      "    accuracy                           0.61        96\n",
      "   macro avg       0.55      0.57      0.54        96\n",
      "weighted avg       0.71      0.61      0.65        96\n",
      "\n"
     ]
    }
   ],
   "source": [
    "print(log_regression_results_over_LUZ7['report'])"
   ]
  },
  {
   "cell_type": "code",
   "execution_count": 142,
   "metadata": {},
   "outputs": [],
   "source": [
    "log_regression_results_over_LUZ19 = LogRegOver('LUZ19')"
   ]
  },
  {
   "cell_type": "code",
   "execution_count": 143,
   "metadata": {},
   "outputs": [
    {
     "name": "stdout",
     "output_type": "stream",
     "text": [
      "              precision    recall  f1-score   support\n",
      "\n",
      "           0       0.81      0.64      0.71        66\n",
      "           1       0.45      0.67      0.54        30\n",
      "\n",
      "    accuracy                           0.65        96\n",
      "   macro avg       0.63      0.65      0.63        96\n",
      "weighted avg       0.70      0.65      0.66        96\n",
      "\n"
     ]
    }
   ],
   "source": [
    "print(log_regression_results_over_LUZ19['report'])"
   ]
  },
  {
   "cell_type": "code",
   "execution_count": 144,
   "metadata": {},
   "outputs": [
    {
     "data": {
      "image/png": "[encoded data removed]",
      "text/plain": [
       "<Figure size 1000x800 with 1 Axes>"
      ]
     },
     "metadata": {},
     "output_type": "display_data"
    }
   ],
   "source": [
    "plt.figure(figsize=(10, 8))\n",
    "\n",
    "display_LKD16 = RocCurveDisplay(\n",
    "        fpr=log_regression_results_over_LKD16['fpr'], \n",
    "        tpr=log_regression_results_over_LKD16['tpr'], \n",
    "        roc_auc=log_regression_results_over_LKD16['roc_auc'], \n",
    "        estimator_name=f'Phage LKD16'\n",
    "    )\n",
    "display_LKD16.plot(ax=plt.gca())\n",
    "\n",
    "display_LMA2 = RocCurveDisplay(\n",
    "        fpr=log_regression_results_over_LMA2['fpr'], \n",
    "        tpr=log_regression_results_over_LMA2['tpr'], \n",
    "        roc_auc=log_regression_results_over_LMA2['roc_auc'], \n",
    "        estimator_name=f'Phage LMA2'\n",
    "    )\n",
    "display_LMA2.plot(ax=plt.gca())\n",
    "\n",
    "display_LUZ7 = RocCurveDisplay(\n",
    "        fpr=log_regression_results_over_LUZ7['fpr'], \n",
    "        tpr=log_regression_results_over_LUZ7['tpr'], \n",
    "        roc_auc=log_regression_results_over_LUZ7['roc_auc'], \n",
    "        estimator_name=f'Phage LUZ7'\n",
    "    )\n",
    "display_LUZ7.plot(ax=plt.gca())\n",
    "\n",
    "display_LUZ19 = RocCurveDisplay(\n",
    "        fpr=log_regression_results_over_LUZ19['fpr'], \n",
    "        tpr=log_regression_results_over_LUZ19['tpr'], \n",
    "        roc_auc=log_regression_results_over_LUZ19['roc_auc'], \n",
    "        estimator_name=f'Phage LUZ19'\n",
    "    )\n",
    "display_LUZ19.plot(ax=plt.gca())\n",
    "\n",
    "plt.title(\"Logistic Regression with Oversampling\")\n",
    "plt.xlabel(\"False Positive Rate\")\n",
    "plt.ylabel(\"True Positive Rate\")\n",
    "plt.legend(loc=\"lower right\")\n",
    "plt.show()"
   ]
  },
  {
   "cell_type": "markdown",
   "metadata": {},
   "source": [
    "## Support Vector Classifier"
   ]
  },
  {
   "cell_type": "code",
   "execution_count": 69,
   "metadata": {},
   "outputs": [],
   "source": [
    "from sklearn.svm import SVC"
   ]
  },
  {
   "cell_type": "code",
   "execution_count": 70,
   "metadata": {},
   "outputs": [],
   "source": [
    "def SuppVectorOver(phage):\n",
    "     # Train test split\n",
    "    X_train, X_test, y_train, y_test = train_test_split(X, pheno_df[phage], test_size=0.2, random_state=0)\n",
    "\n",
    "    # Oversampling the training data\n",
    "    X_resampled, y_resampled = ros.fit_resample(X_train, y_train)\n",
    "\n",
    "    parameters = {'kernel':('linear', 'rbf'), 'C':[1, 10]}\n",
    "    \n",
    "    clf = GridSearchCV(SVC(probability=True, random_state=0), parameters).fit(X_resampled, y_resampled)\n",
    "\n",
    "    svc_best = clf.best_estimator_.fit(X_resampled, y_resampled)\n",
    "\n",
    "    # Predict using the model\n",
    "    y_pred = svc_best.predict(X_test)\n",
    "\n",
    "    # Generate classification report\n",
    "    report = classification_report(y_pred=y_pred, y_true=y_test)\n",
    "\n",
    "    # Probabilities of predicting an infection (1)\n",
    "    y_score_Infection = svc_best.predict_proba(X_test)[:, 1]\n",
    "\n",
    "    # ROC curve\n",
    "    fpr, tpr, thresholds = roc_curve(y_true=y_test, y_score=y_score_Infection, pos_label=1)\n",
    "\n",
    "    # Area under ROC curve (AUC)\n",
    "    roc_auc = auc(fpr, tpr)\n",
    "\n",
    "    return {'report': report, 'fpr': fpr, 'tpr': tpr, 'roc_auc': roc_auc}"
   ]
  },
  {
   "cell_type": "code",
   "execution_count": 38,
   "metadata": {},
   "outputs": [],
   "source": [
    "svc_results_over_LKD16 = SuppVectorOver('LKD16')"
   ]
  },
  {
   "cell_type": "code",
   "execution_count": 39,
   "metadata": {},
   "outputs": [
    {
     "name": "stdout",
     "output_type": "stream",
     "text": [
      "              precision    recall  f1-score   support\n",
      "\n",
      "           0       0.82      0.82      0.82        68\n",
      "           1       0.57      0.57      0.57        28\n",
      "\n",
      "    accuracy                           0.75        96\n",
      "   macro avg       0.70      0.70      0.70        96\n",
      "weighted avg       0.75      0.75      0.75        96\n",
      "\n"
     ]
    }
   ],
   "source": [
    "print(svc_results_over_LKD16['report'])"
   ]
  },
  {
   "cell_type": "code",
   "execution_count": null,
   "metadata": {},
   "outputs": [],
   "source": [
    "# To run the SuppVectorOver() function for another phage, the dataframe 'COGs_df' has to be changed to reflect the suggestive COGs from that particular phage"
   ]
  },
  {
   "cell_type": "code",
   "execution_count": 71,
   "metadata": {},
   "outputs": [],
   "source": [
    "svc_results_over_LMA2 = SuppVectorOver('LMA2')"
   ]
  },
  {
   "cell_type": "code",
   "execution_count": 72,
   "metadata": {},
   "outputs": [
    {
     "name": "stdout",
     "output_type": "stream",
     "text": [
      "              precision    recall  f1-score   support\n",
      "\n",
      "           0       0.83      0.44      0.57        55\n",
      "           1       0.54      0.88      0.67        41\n",
      "\n",
      "    accuracy                           0.62        96\n",
      "   macro avg       0.68      0.66      0.62        96\n",
      "weighted avg       0.70      0.62      0.61        96\n",
      "\n"
     ]
    }
   ],
   "source": [
    "print(svc_results_over_LMA2['report'])"
   ]
  },
  {
   "cell_type": "code",
   "execution_count": 112,
   "metadata": {},
   "outputs": [],
   "source": [
    "svc_results_over_LUZ7 = SuppVectorOver('LUZ7')"
   ]
  },
  {
   "cell_type": "code",
   "execution_count": 113,
   "metadata": {},
   "outputs": [
    {
     "name": "stdout",
     "output_type": "stream",
     "text": [
      "              precision    recall  f1-score   support\n",
      "\n",
      "           0       0.82      0.79      0.81        76\n",
      "           1       0.30      0.35      0.33        20\n",
      "\n",
      "    accuracy                           0.70        96\n",
      "   macro avg       0.56      0.57      0.57        96\n",
      "weighted avg       0.71      0.70      0.71        96\n",
      "\n"
     ]
    }
   ],
   "source": [
    "print(svc_results_over_LUZ7['report'])"
   ]
  },
  {
   "cell_type": "code",
   "execution_count": 147,
   "metadata": {},
   "outputs": [],
   "source": [
    "svc_results_over_LUZ19 = SuppVectorOver('LUZ19')"
   ]
  },
  {
   "cell_type": "code",
   "execution_count": 148,
   "metadata": {},
   "outputs": [
    {
     "name": "stdout",
     "output_type": "stream",
     "text": [
      "              precision    recall  f1-score   support\n",
      "\n",
      "           0       0.78      0.68      0.73        66\n",
      "           1       0.45      0.57      0.50        30\n",
      "\n",
      "    accuracy                           0.65        96\n",
      "   macro avg       0.61      0.62      0.61        96\n",
      "weighted avg       0.67      0.65      0.66        96\n",
      "\n"
     ]
    }
   ],
   "source": [
    "print(svc_results_over_LUZ19['report'])"
   ]
  },
  {
   "cell_type": "code",
   "execution_count": 149,
   "metadata": {},
   "outputs": [
    {
     "data": {
      "image/png": "[encoded data removed]",
      "text/plain": [
       "<Figure size 1000x800 with 1 Axes>"
      ]
     },
     "metadata": {},
     "output_type": "display_data"
    }
   ],
   "source": [
    "plt.figure(figsize=(10, 8))\n",
    "\n",
    "display_LKD16 = RocCurveDisplay(\n",
    "        fpr=svc_results_over_LKD16['fpr'], \n",
    "        tpr=svc_results_over_LKD16['tpr'], \n",
    "        roc_auc=svc_results_over_LKD16['roc_auc'], \n",
    "        estimator_name=f'Phage LKD16'\n",
    "    )\n",
    "display_LKD16.plot(ax=plt.gca())\n",
    "\n",
    "display_LMA2 = RocCurveDisplay(\n",
    "        fpr=svc_results_over_LMA2['fpr'], \n",
    "        tpr=svc_results_over_LMA2['tpr'], \n",
    "        roc_auc=svc_results_over_LMA2['roc_auc'], \n",
    "        estimator_name=f'Phage LMA2'\n",
    "    )\n",
    "display_LMA2.plot(ax=plt.gca())\n",
    "\n",
    "display_LUZ7 = RocCurveDisplay(\n",
    "        fpr=svc_results_over_LUZ7['fpr'], \n",
    "        tpr=svc_results_over_LUZ7['tpr'], \n",
    "        roc_auc=svc_results_over_LUZ7['roc_auc'], \n",
    "        estimator_name=f'Phage LUZ7'\n",
    "    )\n",
    "display_LUZ7.plot(ax=plt.gca())\n",
    "\n",
    "display_LUZ19 = RocCurveDisplay(\n",
    "        fpr=svc_results_over_LUZ19['fpr'], \n",
    "        tpr=svc_results_over_LUZ19['tpr'], \n",
    "        roc_auc=svc_results_over_LUZ19['roc_auc'], \n",
    "        estimator_name=f'Phage LUZ19'\n",
    "    )\n",
    "display_LUZ19.plot(ax=plt.gca())\n",
    "\n",
    "plt.title(\"Support Vector Classifier with Oversampling\")\n",
    "plt.xlabel(\"False Positive Rate\")\n",
    "plt.ylabel(\"True Positive Rate\")\n",
    "plt.legend(loc=\"lower right\")\n",
    "plt.show()"
   ]
  },
  {
   "cell_type": "code",
   "execution_count": null,
   "metadata": {},
   "outputs": [],
   "source": []
  }
 ],
 "metadata": {
  "kernelspec": {
   "display_name": "sklearn-env",
   "language": "python",
   "name": "python3"
  },
  "language_info": {
   "codemirror_mode": {
    "name": "ipython",
    "version": 3
   },
   "file_extension": ".py",
   "mimetype": "text/x-python",
   "name": "python",
   "nbconvert_exporter": "python",
   "pygments_lexer": "ipython3",
   "version": "3.12.3"
  }
 },
 "nbformat": 4,
 "nbformat_minor": 2
}
